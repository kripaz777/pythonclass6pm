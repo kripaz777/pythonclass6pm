{
 "cells": [
  {
   "cell_type": "code",
   "execution_count": 2,
   "id": "f99071eb-11b9-4b9e-a481-5a9288a81f1b",
   "metadata": {},
   "outputs": [],
   "source": [
    "# try:\n",
    "#     <operation>\n",
    "# except:\n",
    "#     <operaton>"
   ]
  },
  {
   "cell_type": "code",
   "execution_count": 4,
   "id": "f002f29b-b77d-4bcf-8bb8-682127c3d720",
   "metadata": {},
   "outputs": [
    {
     "name": "stdin",
     "output_type": "stream",
     "text": [
      "Enter a =  sdsdfsdf\n"
     ]
    },
    {
     "ename": "ValueError",
     "evalue": "invalid literal for int() with base 10: 'sdsdfsdf'",
     "output_type": "error",
     "traceback": [
      "\u001b[1;31m---------------------------------------------------------------------------\u001b[0m",
      "\u001b[1;31mValueError\u001b[0m                                Traceback (most recent call last)",
      "Cell \u001b[1;32mIn[4], line 1\u001b[0m\n\u001b[1;32m----> 1\u001b[0m a \u001b[38;5;241m=\u001b[39m \u001b[38;5;28mint\u001b[39m(\u001b[38;5;28minput\u001b[39m(\u001b[38;5;124m\"\u001b[39m\u001b[38;5;124mEnter a = \u001b[39m\u001b[38;5;124m\"\u001b[39m))\n",
      "\u001b[1;31mValueError\u001b[0m: invalid literal for int() with base 10: 'sdsdfsdf'"
     ]
    }
   ],
   "source": [
    "a = int(input(\"Enter a = \"))"
   ]
  },
  {
   "cell_type": "code",
   "execution_count": null,
   "id": "4801bda4-87ed-451a-a7b3-ea6425699ae0",
   "metadata": {},
   "outputs": [],
   "source": []
  },
  {
   "cell_type": "code",
   "execution_count": 12,
   "id": "4e11c81d-450a-4cbd-b642-8490a56657ad",
   "metadata": {},
   "outputs": [
    {
     "name": "stdin",
     "output_type": "stream",
     "text": [
      "Enter a =  10\n",
      "Enter b =  0\n"
     ]
    },
    {
     "name": "stdout",
     "output_type": "stream",
     "text": [
      "There is some error\n"
     ]
    }
   ],
   "source": [
    "try:\n",
    "    a = int(input(\"Enter a = \"))\n",
    "    b = int(input(\"Enter b = \"))\n",
    "    c = a/b\n",
    "    print(c)\n",
    "except:\n",
    "    print(\"There is some error\")"
   ]
  },
  {
   "cell_type": "code",
   "execution_count": 21,
   "id": "6423387a-9e79-4645-b6a8-3d59069e73ca",
   "metadata": {},
   "outputs": [
    {
     "name": "stdin",
     "output_type": "stream",
     "text": [
      "Enter a =  10\n",
      "Enter b =  0\n"
     ]
    },
    {
     "name": "stdout",
     "output_type": "stream",
     "text": [
      "value of b can not be zero\n"
     ]
    }
   ],
   "source": [
    "# ValueError ZeroDivisionError\n",
    "try:\n",
    "    a = int(input(\"Enter a = \"))\n",
    "    b = int(input(\"Enter b = \"))\n",
    "    c = a/b\n",
    "    print(c)\n",
    "except ValueError:\n",
    "    print(\"a and b should be int.\")\n",
    "except ZeroDivisionError:\n",
    "    print(\"value of b can not be zero\")"
   ]
  },
  {
   "cell_type": "code",
   "execution_count": 38,
   "id": "98e569a8-f60f-46ea-a7f8-f892c6d869b4",
   "metadata": {},
   "outputs": [
    {
     "name": "stdin",
     "output_type": "stream",
     "text": [
      "Enter a =  sdfsdfsd\n"
     ]
    },
    {
     "name": "stdout",
     "output_type": "stream",
     "text": [
      "a and b should be int.\n"
     ]
    }
   ],
   "source": [
    "# ValueError ZeroDivisionError\n",
    "try:\n",
    "    a = int(input(\"Enter a = \"))\n",
    "    b = int(input(\"Enter b = \"))\n",
    "    c = a/b\n",
    "except ValueError:\n",
    "    print(\"a and b should be int.\")\n",
    "except ZeroDivisionError:\n",
    "    print(\"value of b can not be zero\")\n",
    "else:\n",
    "    print(c)"
   ]
  },
  {
   "cell_type": "code",
   "execution_count": 36,
   "id": "6ddbdcdf-1e0d-42ad-bc79-e41ec70891d4",
   "metadata": {},
   "outputs": [
    {
     "name": "stdout",
     "output_type": "stream",
     "text": [
      "1. Hello World\n",
      "2. Hello World\n",
      "3. Hello World\n",
      "4. Hello World\n",
      "5. Hello World\n"
     ]
    }
   ],
   "source": [
    "try:\n",
    "    file = open('data1.txt','r')\n",
    "except:\n",
    "    print(\"There is no such file.\")\n",
    "else:\n",
    "    print(file.read())\n",
    "    file.close()"
   ]
  },
  {
   "cell_type": "code",
   "execution_count": 40,
   "id": "047f199c-2fdf-4f64-9196-e4e76ae72c23",
   "metadata": {},
   "outputs": [
    {
     "ename": "ValueError",
     "evalue": "",
     "output_type": "error",
     "traceback": [
      "\u001b[1;31m---------------------------------------------------------------------------\u001b[0m",
      "\u001b[1;31mValueError\u001b[0m                                Traceback (most recent call last)",
      "Cell \u001b[1;32mIn[40], line 1\u001b[0m\n\u001b[1;32m----> 1\u001b[0m \u001b[38;5;28;01mraise\u001b[39;00m \u001b[38;5;167;01mValueError\u001b[39;00m\n",
      "\u001b[1;31mValueError\u001b[0m: "
     ]
    }
   ],
   "source": [
    "raise ValueError"
   ]
  },
  {
   "cell_type": "code",
   "execution_count": 48,
   "id": "77da3e3e-a93d-453c-8da1-63bcd34e1e58",
   "metadata": {},
   "outputs": [
    {
     "name": "stdin",
     "output_type": "stream",
     "text": [
      "Enter username =  sddfsdf\n",
      "Enter password =  qweqwewq\n"
     ]
    },
    {
     "name": "stdout",
     "output_type": "stream",
     "text": [
      "The username and password does not match.\n"
     ]
    },
    {
     "name": "stdin",
     "output_type": "stream",
     "text": [
      "Enter username =  admin\n",
      "Enter password =  admin\n"
     ]
    },
    {
     "name": "stdout",
     "output_type": "stream",
     "text": [
      "Welcome\n"
     ]
    }
   ],
   "source": [
    "# login system\n",
    "username = \"admin\"\n",
    "password = \"admin\"\n",
    "def login():\n",
    "    try:\n",
    "        user = input(\"Enter username = \")\n",
    "        pas = input(\"Enter password = \")\n",
    "        if username == user and password ==pas:\n",
    "            print(\"Welcome\")\n",
    "        else:\n",
    "            raise ValueError\n",
    "    except:\n",
    "        print(\"The username and password does not match.\")\n",
    "        login()\n",
    "\n",
    "login()"
   ]
  },
  {
   "cell_type": "code",
   "execution_count": 50,
   "id": "5cdecb50-7e6e-494a-addf-54a3297fefbc",
   "metadata": {},
   "outputs": [
    {
     "ename": "AssertionError",
     "evalue": "",
     "output_type": "error",
     "traceback": [
      "\u001b[1;31m---------------------------------------------------------------------------\u001b[0m",
      "\u001b[1;31mAssertionError\u001b[0m                            Traceback (most recent call last)",
      "Cell \u001b[1;32mIn[50], line 3\u001b[0m\n\u001b[0;32m      1\u001b[0m \u001b[38;5;66;03m# assert statement\u001b[39;00m\n\u001b[0;32m      2\u001b[0m age \u001b[38;5;241m=\u001b[39m \u001b[38;5;241m17\u001b[39m\n\u001b[1;32m----> 3\u001b[0m \u001b[38;5;28;01massert\u001b[39;00m age \u001b[38;5;241m>\u001b[39m\u001b[38;5;241m20\u001b[39m\n",
      "\u001b[1;31mAssertionError\u001b[0m: "
     ]
    }
   ],
   "source": [
    "# assert statement\n",
    "age = 17\n",
    "assert age > 20"
   ]
  },
  {
   "cell_type": "code",
   "execution_count": 54,
   "id": "31b1d8f8-85fd-4972-a780-8e59513125e4",
   "metadata": {},
   "outputs": [
    {
     "name": "stdin",
     "output_type": "stream",
     "text": [
      "Enter age =  10\n"
     ]
    },
    {
     "name": "stdout",
     "output_type": "stream",
     "text": [
      "Error\n"
     ]
    }
   ],
   "source": [
    "try:\n",
    "    age = int(input(\"Enter age = \"))\n",
    "    assert age > 20\n",
    "    print(\"Welcome!\")\n",
    "    \n",
    "except:\n",
    "    print(\"Error\")"
   ]
  },
  {
   "cell_type": "code",
   "execution_count": 62,
   "id": "fa3f7dd6-8247-4cd4-8b7a-6538d42f85d3",
   "metadata": {},
   "outputs": [
    {
     "name": "stdin",
     "output_type": "stream",
     "text": [
      "Enter age =  21\n"
     ]
    },
    {
     "name": "stdout",
     "output_type": "stream",
     "text": [
      "Welcome!\n"
     ]
    }
   ],
   "source": [
    "try:\n",
    "    age = int(input(\"Enter age = \"))\n",
    "    assert age > 20\n",
    "    \n",
    "except ValueError:\n",
    "    print(\"The age should be always in int!\")\n",
    "except AssertionError:\n",
    "    print(\"Your age should be greater than 20\")\n",
    "else:\n",
    "    print(\"Welcome!\")\n"
   ]
  },
  {
   "cell_type": "code",
   "execution_count": 8,
   "id": "855a0995-ca14-47d1-ab92-65896d43f30a",
   "metadata": {},
   "outputs": [
    {
     "name": "stdin",
     "output_type": "stream",
     "text": [
      "Enter username =  dsdfdf\n",
      "Enter password =  erwerer\n"
     ]
    },
    {
     "name": "stdout",
     "output_type": "stream",
     "text": [
      "The username and password does not match.\n"
     ]
    },
    {
     "name": "stdin",
     "output_type": "stream",
     "text": [
      "Enter username =  sdasdasd\n",
      "Enter password =  dfgfdgfd\n"
     ]
    },
    {
     "name": "stdout",
     "output_type": "stream",
     "text": [
      "The username and password does not match.\n"
     ]
    },
    {
     "name": "stdin",
     "output_type": "stream",
     "text": [
      "Enter username =  sdfdsfd\n",
      "Enter password =  sfsdf\n"
     ]
    },
    {
     "name": "stdout",
     "output_type": "stream",
     "text": [
      "The username and password does not match.\n"
     ]
    },
    {
     "name": "stdin",
     "output_type": "stream",
     "text": [
      "Enter username =  admin\n",
      "Enter password =  admin\n"
     ]
    },
    {
     "name": "stdout",
     "output_type": "stream",
     "text": [
      "Welcome\n",
      "You have logedin in 4 attempt.\n"
     ]
    }
   ],
   "source": [
    "# login system\n",
    "username = \"admin\"\n",
    "password = \"admin\"\n",
    "#c = 1\n",
    "def login(c = 1):\n",
    "    try:\n",
    "        user = input(\"Enter username = \")\n",
    "        pas = input(\"Enter password = \")\n",
    "        if username == user and password ==pas:\n",
    "            print(\"Welcome\")\n",
    "            print(f\"You have logedin in {c} attempt.\")\n",
    "        else:\n",
    "            raise ValueError\n",
    "    except:\n",
    "        print(\"The username and password does not match.\")\n",
    "        c = c+1\n",
    "        login(c)\n",
    "\n",
    "login()\n"
   ]
  },
  {
   "cell_type": "code",
   "execution_count": 12,
   "id": "e7bd1a02-324b-498a-9f51-e28ee8cf3d18",
   "metadata": {},
   "outputs": [
    {
     "name": "stdin",
     "output_type": "stream",
     "text": [
      "Enter a =  234324\n",
      "Enter b =  sfdsfdf\n"
     ]
    },
    {
     "name": "stdout",
     "output_type": "stream",
     "text": [
      "a and b should be int.\n",
      "You are in division program. This always runs\n"
     ]
    }
   ],
   "source": [
    "# finally\n",
    "try:\n",
    "    a = int(input(\"Enter a = \"))\n",
    "    b = int(input(\"Enter b = \"))\n",
    "    c = a/b\n",
    "except ValueError:\n",
    "    print(\"a and b should be int.\")\n",
    "except ZeroDivisionError:\n",
    "    print(\"value of b can not be zero\")\n",
    "else:\n",
    "    print(c)\n",
    "finally:\n",
    "    print(\"You are in division program. This always runs\")"
   ]
  },
  {
   "cell_type": "code",
   "execution_count": 34,
   "id": "a88c953b-bb2e-423b-8b46-094a82ab4292",
   "metadata": {},
   "outputs": [
    {
     "name": "stdout",
     "output_type": "stream",
     "text": [
      "The file does not found!\n"
     ]
    }
   ],
   "source": [
    "#FileNotFoundError TypeError\n",
    "try:\n",
    "    file = open('datdasa1.csv','r')\n",
    "    file.close()\n",
    "except FileNotFoundError:\n",
    "    print(\"The file does not found!\")"
   ]
  },
  {
   "cell_type": "code",
   "execution_count": 32,
   "id": "0304d7f8-22f6-4a23-ac6f-ddd1aad56c24",
   "metadata": {},
   "outputs": [
    {
     "name": "stdin",
     "output_type": "stream",
     "text": [
      "Enter a =  10.5\n"
     ]
    },
    {
     "ename": "ValueError",
     "evalue": "invalid literal for int() with base 10: '10.5'",
     "output_type": "error",
     "traceback": [
      "\u001b[1;31m---------------------------------------------------------------------------\u001b[0m",
      "\u001b[1;31mValueError\u001b[0m                                Traceback (most recent call last)",
      "Cell \u001b[1;32mIn[32], line 4\u001b[0m\n\u001b[0;32m      1\u001b[0m \u001b[38;5;66;03m# a = {{1,2,3}}\u001b[39;00m\n\u001b[0;32m      2\u001b[0m \u001b[38;5;66;03m# float(a)\u001b[39;00m\n\u001b[1;32m----> 4\u001b[0m a \u001b[38;5;241m=\u001b[39m \u001b[38;5;28mint\u001b[39m(\u001b[38;5;28minput\u001b[39m(\u001b[38;5;124m\"\u001b[39m\u001b[38;5;124mEnter a = \u001b[39m\u001b[38;5;124m\"\u001b[39m))\n\u001b[0;32m      5\u001b[0m \u001b[38;5;28mfloat\u001b[39m(a)\n",
      "\u001b[1;31mValueError\u001b[0m: invalid literal for int() with base 10: '10.5'"
     ]
    }
   ],
   "source": [
    "# a = {{1,2,3}}\n",
    "# float(a)"
   ]
  },
  {
   "cell_type": "code",
   "execution_count": null,
   "id": "845ba8fd-4b54-4602-bb47-67339175bcf2",
   "metadata": {},
   "outputs": [],
   "source": []
  }
 ],
 "metadata": {
  "kernelspec": {
   "display_name": "Python 3 (ipykernel)",
   "language": "python",
   "name": "python3"
  },
  "language_info": {
   "codemirror_mode": {
    "name": "ipython",
    "version": 3
   },
   "file_extension": ".py",
   "mimetype": "text/x-python",
   "name": "python",
   "nbconvert_exporter": "python",
   "pygments_lexer": "ipython3",
   "version": "3.12.7"
  }
 },
 "nbformat": 4,
 "nbformat_minor": 5
}
