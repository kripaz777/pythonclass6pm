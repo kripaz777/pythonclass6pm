{
 "cells": [
  {
   "cell_type": "code",
   "execution_count": 1,
   "id": "4a9c9923-238b-4213-b0b2-137015b5ab2a",
   "metadata": {},
   "outputs": [
    {
     "name": "stdout",
     "output_type": "stream",
     "text": [
      "<class 'str'>\n",
      "<class 'str'>\n",
      "<class 'str'>\n"
     ]
    }
   ],
   "source": [
    "a = 'Hello World'\n",
    "b = \"Hello World\"\n",
    "c = \"\"\"Hello World\"\"\"\n",
    "print(type(a))\n",
    "print(type(b))\n",
    "print(type(c))"
   ]
  },
  {
   "cell_type": "code",
   "execution_count": 3,
   "id": "3da32748-68ab-47ef-8053-810d1cd12abd",
   "metadata": {},
   "outputs": [
    {
     "name": "stdout",
     "output_type": "stream",
     "text": [
      "HelloWorld\n"
     ]
    }
   ],
   "source": [
    "a = 'Hello'\n",
    "b = 'World'\n",
    "c = a+b\n",
    "print(c)"
   ]
  },
  {
   "cell_type": "code",
   "execution_count": 7,
   "id": "0b6b9071-03de-4807-b5db-7b6cf685e036",
   "metadata": {},
   "outputs": [
    {
     "name": "stdout",
     "output_type": "stream",
     "text": [
      "Hello World\n",
      "Hello World\n",
      "\n"
     ]
    }
   ],
   "source": [
    "a = \"Hello World\\n\"\n",
    "print(a*2)"
   ]
  },
  {
   "cell_type": "code",
   "execution_count": 19,
   "id": "cf1672bc-ff6d-4105-97ff-91c7d36aaaee",
   "metadata": {},
   "outputs": [
    {
     "name": "stdout",
     "output_type": "stream",
     "text": [
      "l\n",
      "d\n",
      "Hello\n",
      " World\n"
     ]
    }
   ],
   "source": [
    "a = 'Hello World'\n",
    "print(a[2])\n",
    "print(a[-1])\n",
    "print(a[0:5])\n",
    "print(a[5:])"
   ]
  },
  {
   "cell_type": "code",
   "execution_count": 29,
   "id": "78af0355-1443-4c95-8660-63321920dbf2",
   "metadata": {},
   "outputs": [
    {
     "data": {
      "text/plain": [
       "'HloWrd'"
      ]
     },
     "execution_count": 29,
     "metadata": {},
     "output_type": "execute_result"
    }
   ],
   "source": [
    "a = 'Hello World'\n",
    "a[0:11:2]"
   ]
  },
  {
   "cell_type": "code",
   "execution_count": 41,
   "id": "f99c94e3-5688-46e5-8835-57360abc3798",
   "metadata": {},
   "outputs": [
    {
     "data": {
      "text/plain": [
       "'dlroW olleH'"
      ]
     },
     "execution_count": 41,
     "metadata": {},
     "output_type": "execute_result"
    }
   ],
   "source": [
    "a = 'Hello World'\n",
    "a[::-1]"
   ]
  },
  {
   "cell_type": "code",
   "execution_count": 45,
   "id": "88fbb95e-6561-47bd-81f2-bd2ef77b3871",
   "metadata": {},
   "outputs": [
    {
     "name": "stdin",
     "output_type": "stream",
     "text": [
      "Enter a =  100\n"
     ]
    },
    {
     "name": "stdout",
     "output_type": "stream",
     "text": [
      "The no is Palinddrome\n"
     ]
    }
   ],
   "source": [
    "a = input(\"Enter a = \")\n",
    "b = a[::-1]\n",
    "if a ==b:\n",
    "    print(\"The no is Palinddrome\")\n",
    "else:\n",
    "    print(\"The no is Palinddrome\")"
   ]
  },
  {
   "cell_type": "code",
   "execution_count": 49,
   "id": "c7c02ea2-d214-47ca-a0c5-83187dcd75b5",
   "metadata": {},
   "outputs": [
    {
     "name": "stdin",
     "output_type": "stream",
     "text": [
      "Enter name =  Ram\n",
      "Enter age =  34\n",
      "Enter add =  Kathmandu\n"
     ]
    },
    {
     "name": "stdout",
     "output_type": "stream",
     "text": [
      "Hello World I am Ram I am from Kathmandu I am 34\n"
     ]
    }
   ],
   "source": [
    "#string concatination\n",
    "name = input(\"Enter name = \")\n",
    "age = int(input(\"Enter age = \"))\n",
    "add = input(\"Enter add = \")\n",
    "\n",
    "info = \"Hello World I am \" + name + \" I am from \" + add + \" I am \" + str(age)\n",
    "print(info)"
   ]
  },
  {
   "cell_type": "code",
   "execution_count": 53,
   "id": "c09fe2f1-2694-43d7-8fbc-2909c022dabb",
   "metadata": {},
   "outputs": [
    {
     "name": "stdout",
     "output_type": "stream",
     "text": [
      "Hello World I am Ram. I am from Kathmandu. I am 34.\n"
     ]
    }
   ],
   "source": [
    "#String formatting\n",
    "info = f\"Hello World I am {name}. I am from {add}. I am {age}.\"\n",
    "print(info)"
   ]
  },
  {
   "cell_type": "code",
   "execution_count": 55,
   "id": "7894798f-4a25-4ae9-8f2b-0c446f8c1971",
   "metadata": {},
   "outputs": [
    {
     "name": "stdin",
     "output_type": "stream",
     "text": [
      "Enter n =  2\n",
      "Enter name =  Ram\n",
      "Enter phone no =  9808667654\n",
      "Enter name =  Shyam\n",
      "Enter phone no =  9808556543\n"
     ]
    },
    {
     "name": "stdout",
     "output_type": "stream",
     "text": [
      "Ram 9808667654\n",
      "Shyam 9808556543\n",
      "\n"
     ]
    }
   ],
   "source": [
    "s = \"\"\n",
    "n = int(input(\"Enter n = \"))\n",
    "for i in range(n):\n",
    "    name = input(\"Enter name = \")\n",
    "    phone = int(input(\"Enter phone no = \"))\n",
    "    info = f\"{name} {phone}\\n\"\n",
    "    s = s + info\n",
    "\n",
    "print(s)"
   ]
  },
  {
   "cell_type": "code",
   "execution_count": 61,
   "id": "91df3c84-fce2-415f-81d4-2eea44ded76e",
   "metadata": {
    "scrolled": true
   },
   "outputs": [
    {
     "name": "stdin",
     "output_type": "stream",
     "text": [
      "Enter n =  2\n",
      "Product name =  Momo\n",
      "Enter price 200\n",
      "Enter qty =  4\n",
      "Product name =  Coke\n",
      "Enter price 2\n",
      "Enter qty =  4\n"
     ]
    },
    {
     "name": "stdout",
     "output_type": "stream",
     "text": [
      "Your bill is\n",
      " Momo 200 4.0 800.0\n",
      "Coke 2 4.0 8.0\n",
      "\n",
      "Your Total\n",
      " 808.0\n"
     ]
    }
   ],
   "source": [
    "bill = \"\"\n",
    "all_total = 0\n",
    "n = int(input(\"Enter n = \"))\n",
    "for i in range(n):\n",
    "    name = input(\"Product name = \")\n",
    "    price = int(input(\"Enter price\"))\n",
    "    qty = float(input(\"Enter qty = \"))\n",
    "    total = price * qty\n",
    "    info = f\"{name} {price} {qty} {total}\\n\"\n",
    "    bill = bill + info\n",
    "    all_total = all_total + total\n",
    "\n",
    "print(\"Your bill is\\n\",bill)\n",
    "print(\"Your Total\\n\",all_total)"
   ]
  },
  {
   "cell_type": "code",
   "execution_count": 1,
   "id": "0ca80c1a-2cfd-46ad-95f6-610df5d270c4",
   "metadata": {},
   "outputs": [],
   "source": [
    "# WAP to create a result management system\n",
    "# name, physics, che, math english nepali = ?\n",
    "# total\n",
    "# per grade\n",
    "\n",
    "# put all this in string"
   ]
  },
  {
   "cell_type": "code",
   "execution_count": 1,
   "id": "4e070b57-d25d-40ba-a189-95a59ada4eec",
   "metadata": {},
   "outputs": [
    {
     "name": "stdin",
     "output_type": "stream",
     "text": [
      "Enter n =  2\n",
      "Enter name =  Ram\n",
      "Enter physics marks =  44\n",
      "Enter chemistry marks =  90\n",
      "Enter math marks =  87\n",
      "Enter english marks =  90\n",
      "Enter nepali marks =  87\n",
      "Enter name =  Shyam\n",
      "Enter physics marks =  89\n",
      "Enter chemistry marks =  90\n",
      "Enter math marks =  87\n",
      "Enter english marks =  89\n",
      "Enter nepali marks =  90\n"
     ]
    },
    {
     "name": "stdout",
     "output_type": "stream",
     "text": [
      "Ram 44 90 87 90 87 398 79.6 F\n",
      "Shyam 89 90 87 89 90 445 89.0 A\n",
      "\n"
     ]
    }
   ],
   "source": [
    "result = \"\"\n",
    "n = int(input(\"Enter n = \"))\n",
    "for i in range(n):\n",
    "    name = input(\"Enter name = \")\n",
    "    physics = int(input(\"Enter physics marks = \"))\n",
    "    chemistry = int(input(\"Enter chemistry marks = \"))\n",
    "    math = int(input(\"Enter math marks = \"))\n",
    "    english = int(input(\"Enter english marks = \"))\n",
    "    nepali = int(input(\"Enter nepali marks = \"))\n",
    "    total = physics + chemistry + math + english + nepali\n",
    "    per = total/5\n",
    "    \n",
    "    if physics >= 45 and chemistry >= 45 and math >= 45 and english >= 45 and nepali >=45:\n",
    "        if per >= 80:\n",
    "            grade = 'A'\n",
    "        elif per >= 60:\n",
    "            grade = 'B'\n",
    "        elif per >= 45:\n",
    "            grade = 'C'\n",
    "    else:\n",
    "        grade = 'F'\n",
    "        \n",
    "    data = f\"{name} {physics} {chemistry} {math} {english} {nepali} {total} {per} {grade}\\n\"\n",
    "    result = result + data\n",
    "\n",
    "print(result)"
   ]
  },
  {
   "cell_type": "code",
   "execution_count": 9,
   "id": "c368cd3c-9dd2-4f95-b30a-1aa846c5c9c8",
   "metadata": {},
   "outputs": [
    {
     "name": "stdout",
     "output_type": "stream",
     "text": [
      "H Hello World\n",
      "e Hello World\n",
      "l Hello World\n",
      "l Hello World\n",
      "o Hello World\n",
      "  Hello World\n",
      "W Hello World\n",
      "o Hello World\n",
      "r Hello World\n",
      "l Hello World\n",
      "d Hello World\n"
     ]
    }
   ],
   "source": [
    "a = \"Hello World\"\n",
    "for i in a:\n",
    "    print(i,\"Hello World\" )"
   ]
  },
  {
   "cell_type": "code",
   "execution_count": 49,
   "id": "6b79c006-61f8-4f03-8416-7c690924b95e",
   "metadata": {},
   "outputs": [
    {
     "name": "stdout",
     "output_type": "stream",
     "text": [
      "0 Helo World-1 Helo World-2 Helo World-3 Helo World-4 Helo World-"
     ]
    }
   ],
   "source": [
    "for i in range(5):   #0,1,2,3,4\n",
    "    print(i,\"Helo World\", end = \"-\")"
   ]
  },
  {
   "cell_type": "code",
   "execution_count": 11,
   "id": "cf2bf056-9ec3-4eeb-b085-16f0d9bdf798",
   "metadata": {},
   "outputs": [
    {
     "name": "stdout",
     "output_type": "stream",
     "text": [
      "11\n"
     ]
    }
   ],
   "source": [
    "print(len(a))"
   ]
  },
  {
   "cell_type": "code",
   "execution_count": 25,
   "id": "d578f043-db82-4f2b-9ed4-b6b0b0b5dad5",
   "metadata": {},
   "outputs": [
    {
     "name": "stdout",
     "output_type": "stream",
     "text": [
      "H\n",
      "e\n",
      "l\n",
      "l\n",
      "o\n",
      " \n",
      "W\n",
      "o\n",
      "r\n",
      "l\n",
      "d\n"
     ]
    }
   ],
   "source": [
    "for i in range(len(a)):\n",
    "    print(a[i])"
   ]
  },
  {
   "cell_type": "code",
   "execution_count": 35,
   "id": "25d8d09f-acba-4ab5-891d-0b56e555d4d1",
   "metadata": {},
   "outputs": [
    {
     "name": "stdout",
     "output_type": "stream",
     "text": [
      "Hello World"
     ]
    }
   ],
   "source": [
    "i = 0\n",
    "a = \"Hello World\"\n",
    "l = len(a)\n",
    "while i<l:\n",
    "    print(a[i], end = \"\")\n",
    "    i = i+1"
   ]
  },
  {
   "cell_type": "code",
   "execution_count": 39,
   "id": "e467529f-277d-4cec-a2f6-172feae5a05f",
   "metadata": {},
   "outputs": [
    {
     "name": "stdout",
     "output_type": "stream",
     "text": [
      "Hello World I am Python"
     ]
    }
   ],
   "source": [
    "a = \"Hello World. I am Python.\"\n",
    "for i in a:\n",
    "    if i !=\".\":\n",
    "        print(i,end = \"\")"
   ]
  },
  {
   "cell_type": "code",
   "execution_count": 51,
   "id": "3d7035ff-82dd-45a7-90e4-0ef8e0629111",
   "metadata": {},
   "outputs": [
    {
     "name": "stdout",
     "output_type": "stream",
     "text": [
      "Hello World.\n"
     ]
    }
   ],
   "source": [
    "a = \"Hello World. I am Python.\"\n",
    "for i in a:\n",
    "    if i !=\".\":\n",
    "        print(i,end = \"\")\n",
    "    else:\n",
    "        print(\".\")\n",
    "        break"
   ]
  },
  {
   "cell_type": "code",
   "execution_count": 53,
   "id": "b8433489-c67e-45ed-bc0c-df92dc98e007",
   "metadata": {},
   "outputs": [
    {
     "name": "stdout",
     "output_type": "stream",
     "text": [
      "Hello World I am Python"
     ]
    }
   ],
   "source": [
    "a = \"Hello World. I am Python.\"\n",
    "for i in a:\n",
    "    if i !=\".\":\n",
    "        print(i,end = \"\")\n",
    "    else:\n",
    "        continue"
   ]
  },
  {
   "cell_type": "code",
   "execution_count": 1,
   "id": "4225b426-cbcd-4e4a-8083-939f8693690f",
   "metadata": {},
   "outputs": [],
   "source": [
    "# Seach in string"
   ]
  },
  {
   "cell_type": "code",
   "execution_count": 11,
   "id": "7c910352-36a7-4cca-9f9e-3573ef2f2b4b",
   "metadata": {},
   "outputs": [
    {
     "name": "stdin",
     "output_type": "stream",
     "text": [
      "Enter name for search =  Ram\n"
     ]
    },
    {
     "name": "stdout",
     "output_type": "stream",
     "text": [
      "Yes there is.\n",
      "1\n"
     ]
    }
   ],
   "source": [
    "a = \"Ram Shyam Hari Sita Gita Rita\"\n",
    "name = input(\"Enter name for search = \")\n",
    "if name in a:\n",
    "    print(\"Yes there is.\")\n",
    "    print(a.count(name))\n",
    "else:\n",
    "    print(\"There is no such name\")"
   ]
  },
  {
   "cell_type": "code",
   "execution_count": 19,
   "id": "bdd42942-9f10-48b2-8736-bb227e957709",
   "metadata": {},
   "outputs": [
    {
     "name": "stdout",
     "output_type": "stream",
     "text": [
      "RAM SHYAM HARI SITA GITA RITA\n",
      "ram shyam hari sita gita rita\n"
     ]
    },
    {
     "data": {
      "text/plain": [
       "'ram'"
      ]
     },
     "execution_count": 19,
     "metadata": {},
     "output_type": "execute_result"
    }
   ],
   "source": [
    "a = \"Ram Shyam Hari Sita Gita Rita\"\n",
    "print(a.upper())\n",
    "print(a.lower())\n",
    "\"Ram\".lower()"
   ]
  },
  {
   "cell_type": "code",
   "execution_count": 37,
   "id": "5b063d70-655c-4193-895c-f6816d6af597",
   "metadata": {},
   "outputs": [
    {
     "name": "stdin",
     "output_type": "stream",
     "text": [
      "Enter name for search =  Ram\n"
     ]
    },
    {
     "name": "stdout",
     "output_type": "stream",
     "text": [
      "Yes there is.\n",
      "2\n"
     ]
    }
   ],
   "source": [
    "a = \"Ram Shyam Hari Sita Gita Rita Ramesh\".lower()\n",
    "name = input(\"Enter name for search = \").lower()\n",
    "if name in a:\n",
    "    print(\"Yes there is.\")\n",
    "    print(a.count(name))\n",
    "else:\n",
    "    print(\"There is no such name\")"
   ]
  },
  {
   "cell_type": "code",
   "execution_count": 27,
   "id": "e6c41d7d-1754-46b6-aeaa-4ab552c4234c",
   "metadata": {},
   "outputs": [
    {
     "name": "stdout",
     "output_type": "stream",
     "text": [
      "Rama Shyam Hari Sita Gita Rita\n"
     ]
    }
   ],
   "source": [
    "#replace\n",
    "a = \"Ram Shyam Hari Sita Gita Rita\"\n",
    "a = a.replace(\"Ram\",\"Rama\")\n",
    "print(a)"
   ]
  },
  {
   "cell_type": "code",
   "execution_count": 29,
   "id": "d1a209ae-9b42-4adb-a628-f0d287b183e0",
   "metadata": {},
   "outputs": [
    {
     "name": "stdout",
     "output_type": "stream",
     "text": [
      " Shyam Hari Sita Gita Rita\n"
     ]
    }
   ],
   "source": [
    "a = \"Ram Shyam Hari Sita Gita Rita\"\n",
    "a = a.replace(\"Ram\",\"\")\n",
    "print(a)"
   ]
  },
  {
   "cell_type": "code",
   "execution_count": 33,
   "id": "1f38c240-7677-4f5f-b841-cf7b948b4950",
   "metadata": {},
   "outputs": [
    {
     "name": "stdin",
     "output_type": "stream",
     "text": [
      "Enter name for search =  Ram\n"
     ]
    },
    {
     "name": "stdout",
     "output_type": "stream",
     "text": [
      "Yes there is.\n",
      " Shyam Hari Sita Gita Rita\n"
     ]
    }
   ],
   "source": [
    "a = \"Ram Shyam Hari Sita Gita Rita\"\n",
    "name = input(\"Enter name for search = \")\n",
    "if name in a:\n",
    "    print(\"Yes there is.\")\n",
    "    a = a.replace(name,\"\")\n",
    "    print(a)\n",
    "else:\n",
    "    print(\"There is no such name\")"
   ]
  },
  {
   "cell_type": "code",
   "execution_count": null,
   "id": "fd310f34-ce46-4aa8-9747-68192693db26",
   "metadata": {},
   "outputs": [],
   "source": []
  }
 ],
 "metadata": {
  "kernelspec": {
   "display_name": "Python 3 (ipykernel)",
   "language": "python",
   "name": "python3"
  },
  "language_info": {
   "codemirror_mode": {
    "name": "ipython",
    "version": 3
   },
   "file_extension": ".py",
   "mimetype": "text/x-python",
   "name": "python",
   "nbconvert_exporter": "python",
   "pygments_lexer": "ipython3",
   "version": "3.12.7"
  }
 },
 "nbformat": 4,
 "nbformat_minor": 5
}
