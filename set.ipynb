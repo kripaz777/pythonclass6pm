{
 "cells": [
  {
   "cell_type": "code",
   "execution_count": 1,
   "id": "ab32f8f8-3041-4ffb-88a8-c93eb19d3310",
   "metadata": {},
   "outputs": [],
   "source": [
    "# set\n",
    "# -No indexing\n",
    "# -Unordered\n",
    "# -Multiple but no duplicate value\n",
    "# -Mutable"
   ]
  },
  {
   "cell_type": "code",
   "execution_count": 5,
   "id": "a8bc8ab7-685d-429a-8eee-eeeedbac7ed3",
   "metadata": {},
   "outputs": [
    {
     "name": "stdout",
     "output_type": "stream",
     "text": [
      "<class 'set'>\n"
     ]
    }
   ],
   "source": [
    "s = {1,2,3,4,5,6,7,8}\n",
    "print(type(s))"
   ]
  },
  {
   "cell_type": "code",
   "execution_count": 9,
   "id": "ef907290-069c-4ed8-a805-d25dfa6753f9",
   "metadata": {},
   "outputs": [
    {
     "name": "stdout",
     "output_type": "stream",
     "text": [
      "{'Fish', 'Dog', 'Ball', 'Cat', 'Apple'}\n"
     ]
    }
   ],
   "source": [
    "s = {\"Apple\",\"Ball\",\"Cat\",\"Dog\",\"Fish\",\"Apple\"}\n",
    "print(s)"
   ]
  },
  {
   "cell_type": "code",
   "execution_count": 11,
   "id": "0e43a120-87fb-4733-b814-0ad69bf9c7d6",
   "metadata": {},
   "outputs": [],
   "source": [
    "#In set there is no + *\n",
    "# No append() insert() extend()\n",
    "# No Edit\n",
    "# No sort()"
   ]
  },
  {
   "cell_type": "code",
   "execution_count": 1,
   "id": "8a1b2407-460b-4c91-a66a-280471150260",
   "metadata": {},
   "outputs": [
    {
     "name": "stdout",
     "output_type": "stream",
     "text": [
      "{'Cat', 'Apple', 'Dog', 'Ball'}\n"
     ]
    }
   ],
   "source": [
    "s = set()\n",
    "s.add(\"Apple\")\n",
    "s.add(\"Ball\")\n",
    "s.add(\"Cat\")\n",
    "s.add(\"Dog\")\n",
    "print(s)"
   ]
  },
  {
   "cell_type": "code",
   "execution_count": 3,
   "id": "edd77011-7173-47e8-873a-c36d6fb218d7",
   "metadata": {},
   "outputs": [
    {
     "name": "stdout",
     "output_type": "stream",
     "text": [
      "{'Cat', 'Dog', 'Ball'}\n"
     ]
    }
   ],
   "source": [
    "s = {'Cat', 'Apple', 'Dog', 'Ball'}\n",
    "s.remove(\"Apple\")\n",
    "print(s)"
   ]
  },
  {
   "cell_type": "code",
   "execution_count": 9,
   "id": "13b8c1a1-fd6e-4828-84cf-787d9845a5ad",
   "metadata": {},
   "outputs": [
    {
     "data": {
      "text/plain": [
       "['Cat', 'Apple', 'Dog', 'Ball']"
      ]
     },
     "execution_count": 9,
     "metadata": {},
     "output_type": "execute_result"
    }
   ],
   "source": [
    "a = ['Cat','Cat', 'Apple', 'Ball','Cat','Dog', 'Ball']\n",
    "b = set(a)\n",
    "a = list(b)\n",
    "a"
   ]
  },
  {
   "cell_type": "code",
   "execution_count": 19,
   "id": "38f866b0-15e4-4e5d-bdb5-cbff6d612b6c",
   "metadata": {},
   "outputs": [
    {
     "name": "stdout",
     "output_type": "stream",
     "text": [
      "Working on both company {'Akash', 'Sam'}\n",
      "Working on merged company {'Avash', 'Sita', 'Sam', 'Steave', 'Ram', 'Akash', 'Satya', 'Harry', 'William', 'Bill', 'Nabina'}\n"
     ]
    }
   ],
   "source": [
    "U = {'Avash', 'Sita', 'Sam', 'Steave', 'Ram','xyz','abc', 'Akash', 'Satya', 'Harry', 'William', 'Bill', 'Nabina'}\n",
    "ms = {\"Ram\",\"Satya\",\"Bill\",\"Sam\",\"Harry\",\"Akash\",\"Sita\"}\n",
    "apple = {\"Steave\",\"William\",\"Sam\",\"Akash\",\"Avash\",\"Nabina\"}\n",
    "\n",
    "print(\"Working on both company\",ms.intersection(apple))\n",
    "print(\"Working on merged company\",ms.union(apple))\n"
   ]
  },
  {
   "cell_type": "code",
   "execution_count": 21,
   "id": "9711da92-8812-468d-9a79-4f95ac046520",
   "metadata": {},
   "outputs": [
    {
     "name": "stdout",
     "output_type": "stream",
     "text": [
      "Working only on ms {'Sita', 'Ram', 'Satya', 'Harry', 'Bill'}\n",
      "Working only on apple {'Avash', 'Nabina', 'Steave', 'William'}\n"
     ]
    }
   ],
   "source": [
    "print(\"Working only on ms\",ms.difference(apple))\n",
    "print(\"Working only on apple\",apple.difference(ms))"
   ]
  },
  {
   "cell_type": "code",
   "execution_count": 25,
   "id": "ac1ac71a-7a61-4ddb-b7b4-207e0a7d24c9",
   "metadata": {},
   "outputs": [
    {
     "name": "stdout",
     "output_type": "stream",
     "text": [
      "People who are unemployed are  {'xyz', 'abc'}\n"
     ]
    }
   ],
   "source": [
    "print(\"People who are unemployed are \",U.difference(ms.union(apple)))"
   ]
  },
  {
   "cell_type": "code",
   "execution_count": 27,
   "id": "9a17876d-3891-44f5-9229-02eee71e918d",
   "metadata": {},
   "outputs": [],
   "source": [
    "# inside set there is no mutable datatype"
   ]
  },
  {
   "cell_type": "code",
   "execution_count": 29,
   "id": "ad8e36b6-9950-4fb2-a3a9-744f5d59021c",
   "metadata": {},
   "outputs": [
    {
     "data": {
      "text/plain": [
       "{1, 1.5, 'Apple'}"
      ]
     },
     "execution_count": 29,
     "metadata": {},
     "output_type": "execute_result"
    }
   ],
   "source": [
    "s = {\"Apple\",1,1.5,}\n",
    "s"
   ]
  },
  {
   "cell_type": "code",
   "execution_count": 31,
   "id": "f4025e2a-09bd-4052-9665-1496a54bbcc6",
   "metadata": {},
   "outputs": [
    {
     "ename": "TypeError",
     "evalue": "unhashable type: 'list'",
     "output_type": "error",
     "traceback": [
      "\u001b[1;31m---------------------------------------------------------------------------\u001b[0m",
      "\u001b[1;31mTypeError\u001b[0m                                 Traceback (most recent call last)",
      "Cell \u001b[1;32mIn[31], line 1\u001b[0m\n\u001b[1;32m----> 1\u001b[0m s \u001b[38;5;241m=\u001b[39m {[\u001b[38;5;124m\"\u001b[39m\u001b[38;5;124mApple\u001b[39m\u001b[38;5;124m\"\u001b[39m,\u001b[38;5;124m\"\u001b[39m\u001b[38;5;124mCat\u001b[39m\u001b[38;5;124m\"\u001b[39m]}\n\u001b[0;32m      2\u001b[0m s\n",
      "\u001b[1;31mTypeError\u001b[0m: unhashable type: 'list'"
     ]
    }
   ],
   "source": [
    "#No list inside set\n",
    "s = {[\"Apple\",\"Cat\"]}\n",
    "s"
   ]
  },
  {
   "cell_type": "code",
   "execution_count": 33,
   "id": "d55f2067-9175-413d-8ec5-c11f8cb69dd1",
   "metadata": {},
   "outputs": [
    {
     "ename": "TypeError",
     "evalue": "unhashable type: 'set'",
     "output_type": "error",
     "traceback": [
      "\u001b[1;31m---------------------------------------------------------------------------\u001b[0m",
      "\u001b[1;31mTypeError\u001b[0m                                 Traceback (most recent call last)",
      "Cell \u001b[1;32mIn[33], line 2\u001b[0m\n\u001b[0;32m      1\u001b[0m \u001b[38;5;66;03m# No set inside set\u001b[39;00m\n\u001b[1;32m----> 2\u001b[0m s \u001b[38;5;241m=\u001b[39m {{\u001b[38;5;241m1\u001b[39m,\u001b[38;5;241m2\u001b[39m,\u001b[38;5;241m3\u001b[39m},{\u001b[38;5;241m4\u001b[39m,\u001b[38;5;241m5\u001b[39m,\u001b[38;5;241m6\u001b[39m}}\n\u001b[0;32m      3\u001b[0m s\n",
      "\u001b[1;31mTypeError\u001b[0m: unhashable type: 'set'"
     ]
    }
   ],
   "source": [
    "# No set inside set\n",
    "s = {{1,2,3},{4,5,6}}\n",
    "s"
   ]
  },
  {
   "cell_type": "code",
   "execution_count": 35,
   "id": "87d41c78-bc13-4332-93ac-61cec4a0dc81",
   "metadata": {},
   "outputs": [
    {
     "data": {
      "text/plain": [
       "{(1, 2, 3), (4, 5, 6)}"
      ]
     },
     "execution_count": 35,
     "metadata": {},
     "output_type": "execute_result"
    }
   ],
   "source": [
    "# But we can use tuple inside set\n",
    "s = {(1,2,3),(4,5,6)}\n",
    "s"
   ]
  },
  {
   "cell_type": "code",
   "execution_count": null,
   "id": "f07e2d06-fd10-40ba-846c-73ea2ec58edb",
   "metadata": {},
   "outputs": [],
   "source": []
  }
 ],
 "metadata": {
  "kernelspec": {
   "display_name": "Python 3 (ipykernel)",
   "language": "python",
   "name": "python3"
  },
  "language_info": {
   "codemirror_mode": {
    "name": "ipython",
    "version": 3
   },
   "file_extension": ".py",
   "mimetype": "text/x-python",
   "name": "python",
   "nbconvert_exporter": "python",
   "pygments_lexer": "ipython3",
   "version": "3.12.7"
  }
 },
 "nbformat": 4,
 "nbformat_minor": 5
}
