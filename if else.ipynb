{
 "cells": [
  {
   "cell_type": "code",
   "execution_count": 1,
   "id": "71bbe0e8-b683-4333-b7ec-48938156ed42",
   "metadata": {},
   "outputs": [],
   "source": [
    "# > < >= <= == != "
   ]
  },
  {
   "cell_type": "code",
   "execution_count": 2,
   "id": "37d9555e-d279-4b0f-91ec-9bb8d40342c5",
   "metadata": {},
   "outputs": [],
   "source": [
    "# if <condition>:\n",
    "#     <operations>\n",
    "# elif <condition>:\n",
    "#     <operations>\n",
    "# ...\n",
    "# else:\n",
    "#     <operations>"
   ]
  },
  {
   "cell_type": "code",
   "execution_count": 6,
   "id": "9f72ae35-0229-4ed6-9591-799d18c9a373",
   "metadata": {},
   "outputs": [
    {
     "name": "stdin",
     "output_type": "stream",
     "text": [
      "Enter age =  5\n"
     ]
    },
    {
     "name": "stdout",
     "output_type": "stream",
     "text": [
      "You are under 10\n"
     ]
    }
   ],
   "source": [
    "a = 10\n",
    "age = int(input(\"Enter age = \"))\n",
    "if age >= a:\n",
    "    print(\"Welcome\")\n",
    "else:\n",
    "    print(\"You are under 10\")"
   ]
  },
  {
   "cell_type": "code",
   "execution_count": 16,
   "id": "53691361-7288-40a2-88c7-b31467c896a1",
   "metadata": {},
   "outputs": [],
   "source": [
    "# 10%2==0"
   ]
  },
  {
   "cell_type": "code",
   "execution_count": 28,
   "id": "edfecdae-229d-4351-a589-7990036542ee",
   "metadata": {},
   "outputs": [
    {
     "name": "stdin",
     "output_type": "stream",
     "text": [
      "Enter a =  11\n"
     ]
    },
    {
     "name": "stdout",
     "output_type": "stream",
     "text": [
      "11 is odd\n"
     ]
    }
   ],
   "source": [
    "a = int(input(\"Enter a = \"))\n",
    "if a%2==0:\n",
    "    print(a,\"is even\")\n",
    "else:\n",
    "    print(a,\"is odd\")"
   ]
  },
  {
   "cell_type": "code",
   "execution_count": 32,
   "id": "612edc9c-1a63-4e15-bf83-63bdc8a9ec09",
   "metadata": {},
   "outputs": [
    {
     "name": "stdin",
     "output_type": "stream",
     "text": [
      "Enter a =  10\n",
      "Enter b =  10\n"
     ]
    },
    {
     "name": "stdout",
     "output_type": "stream",
     "text": [
      "a and b both equal\n"
     ]
    }
   ],
   "source": [
    "a = int(input(\"Enter a = \"))\n",
    "b = int(input(\"Enter b = \"))\n",
    "if a>b:\n",
    "    print(a,\"is greater than\",b)\n",
    "elif b>a:\n",
    "    print(b,\"is greater than\",a)\n",
    "else:\n",
    "    print(\"a and b both equal\")"
   ]
  },
  {
   "cell_type": "code",
   "execution_count": 3,
   "id": "e187f0e7-b591-42e1-a6cc-c7f50bd6b392",
   "metadata": {},
   "outputs": [
    {
     "name": "stdin",
     "output_type": "stream",
     "text": [
      "Enter physics =  45\n",
      "Enter chemistry =  78\n",
      "Enter math =  67\n",
      "Enter english =  56\n",
      "Enter nepali =  45\n"
     ]
    },
    {
     "name": "stdout",
     "output_type": "stream",
     "text": [
      "The total marks =  291\n",
      "The per =  58.2\n",
      "The grade =  C\n"
     ]
    }
   ],
   "source": [
    "physics = int(input(\"Enter physics = \"))\n",
    "chemistry = int(input(\"Enter chemistry = \"))\n",
    "math = int(input(\"Enter math = \"))\n",
    "english = int(input(\"Enter english = \"))\n",
    "nepali = int(input(\"Enter nepali = \"))\n",
    "\n",
    "total = physics + chemistry + math + english + nepali\n",
    "\n",
    "per = total/5\n",
    "\n",
    "if per >= 80:\n",
    "    grade = 'A'\n",
    "elif per >=60:\n",
    "    grade = 'B'\n",
    "elif per >= 45:\n",
    "    grade = 'C'\n",
    "else:\n",
    "    grade = 'F'\n",
    "    \n",
    "print(\"The total marks = \",total)\n",
    "print(\"The per = \",per)\n",
    "print(\"The grade = \",grade)"
   ]
  },
  {
   "cell_type": "code",
   "execution_count": 17,
   "id": "33777b13-fadc-47ba-a8a2-af243f05278a",
   "metadata": {},
   "outputs": [
    {
     "name": "stdin",
     "output_type": "stream",
     "text": [
      "Enter a =  10\n",
      "Enter b =  0\n",
      "Enter + or - or * or /   /\n"
     ]
    },
    {
     "ename": "ZeroDivisionError",
     "evalue": "division by zero",
     "output_type": "error",
     "traceback": [
      "\u001b[1;31m---------------------------------------------------------------------------\u001b[0m",
      "\u001b[1;31mZeroDivisionError\u001b[0m                         Traceback (most recent call last)",
      "Cell \u001b[1;32mIn[17], line 15\u001b[0m\n\u001b[0;32m     13\u001b[0m     \u001b[38;5;28mprint\u001b[39m(a\u001b[38;5;241m*\u001b[39mb)\n\u001b[0;32m     14\u001b[0m \u001b[38;5;28;01melif\u001b[39;00m o \u001b[38;5;241m==\u001b[39m \u001b[38;5;124m\"\u001b[39m\u001b[38;5;124m/\u001b[39m\u001b[38;5;124m\"\u001b[39m:\n\u001b[1;32m---> 15\u001b[0m     \u001b[38;5;28mprint\u001b[39m(a\u001b[38;5;241m/\u001b[39mb)\n\u001b[0;32m     16\u001b[0m \u001b[38;5;28;01melse\u001b[39;00m:\n\u001b[0;32m     17\u001b[0m     \u001b[38;5;28mprint\u001b[39m(\u001b[38;5;124m\"\u001b[39m\u001b[38;5;124mInvalid operator\u001b[39m\u001b[38;5;124m\"\u001b[39m)\n",
      "\u001b[1;31mZeroDivisionError\u001b[0m: division by zero"
     ]
    }
   ],
   "source": [
    "# # WAP to create a calculator\n",
    "# a = ?\n",
    "# b = ?\n",
    "# o = ?\n",
    "a = int(input(\"Enter a = \"))\n",
    "b = int(input(\"Enter b = \"))\n",
    "o = input(\"Enter + or - or * or /  \")\n",
    "if o == \"+\":\n",
    "    print(a+b)\n",
    "elif o == \"-\":\n",
    "    print(a-b)\n",
    "elif o == \"*\":\n",
    "    print(a*b)\n",
    "elif o == \"/\":\n",
    "    print(a/b)\n",
    "else:\n",
    "    print(\"Invalid operator\")"
   ]
  },
  {
   "cell_type": "code",
   "execution_count": 9,
   "id": "411297a2-b4d7-4867-a9c4-6314c76bedb6",
   "metadata": {},
   "outputs": [],
   "source": [
    "# logical operator\n",
    "# and or not"
   ]
  },
  {
   "cell_type": "code",
   "execution_count": 13,
   "id": "eec4a93d-bf4f-4e53-9ea2-51f82c62c56f",
   "metadata": {},
   "outputs": [
    {
     "name": "stdout",
     "output_type": "stream",
     "text": [
      "True\n",
      "False\n",
      "False\n",
      "False\n"
     ]
    }
   ],
   "source": [
    "print(True and True)\n",
    "print(True and False)\n",
    "print(False and True)\n",
    "print(False and False)"
   ]
  },
  {
   "cell_type": "code",
   "execution_count": 15,
   "id": "98fe3edf-a204-4f4f-99b1-a7da4855e05d",
   "metadata": {},
   "outputs": [
    {
     "name": "stdout",
     "output_type": "stream",
     "text": [
      "True\n",
      "True\n",
      "True\n",
      "False\n"
     ]
    }
   ],
   "source": [
    "print(True or True)\n",
    "print(True or False)\n",
    "print(False or True)\n",
    "print(False or False)"
   ]
  },
  {
   "cell_type": "code",
   "execution_count": 21,
   "id": "61ea9e7f-845c-4ed2-ac1e-c05d7c8e8dc0",
   "metadata": {},
   "outputs": [
    {
     "name": "stdin",
     "output_type": "stream",
     "text": [
      "Enter a =  10\n",
      "Enter b =  2\n",
      "Enter + or - or * or /   /\n"
     ]
    },
    {
     "name": "stdout",
     "output_type": "stream",
     "text": [
      "5.0\n"
     ]
    }
   ],
   "source": [
    "a = int(input(\"Enter a = \"))\n",
    "b = int(input(\"Enter b = \"))\n",
    "o = input(\"Enter + or - or * or /  \")\n",
    "if o == \"+\":\n",
    "    print(a+b)\n",
    "elif o == \"-\":\n",
    "    print(a-b)\n",
    "elif o == \"*\":\n",
    "    print(a*b)\n",
    "elif o == \"/\" and b !=0:\n",
    "    print(a/b)\n",
    "elif o == \"/\" and b ==0:\n",
    "    print(\"The value of b can not be zero!\")\n",
    "else:\n",
    "    print(\"Invalid operator\")"
   ]
  },
  {
   "cell_type": "code",
   "execution_count": 23,
   "id": "f6cf02c1-fdbb-4561-9cc7-becc0d4b5075",
   "metadata": {},
   "outputs": [],
   "source": [
    "if (per > 80) or (per == 80):\n",
    "    grade = 'A'\n",
    "elif (per >60) or (per ==60):\n",
    "    grade = 'B'\n",
    "elif (per > 45) or (per == 45):\n",
    "    grade = 'C'\n",
    "else:\n",
    "    grade = 'F'"
   ]
  },
  {
   "cell_type": "code",
   "execution_count": null,
   "id": "14710d3f-fa8e-4804-acc4-c926ce849623",
   "metadata": {},
   "outputs": [],
   "source": [
    "# Nested ifelse\n",
    "# if <condition>:\n",
    "#     if <condition>:\n",
    "#         <operations>\n",
    "#     else:\n",
    "#         <operations>\n",
    "# else:\n",
    "#     ..."
   ]
  },
  {
   "cell_type": "code",
   "execution_count": null,
   "id": "f1c67a74-1c62-472b-94bf-8cb42b1ddc52",
   "metadata": {},
   "outputs": [],
   "source": [
    "a = int(input(\"Enter a = \"))\n",
    "if a>=0:\n",
    "    if a%2==0:\n",
    "        print(\"The no is +ve and even\")\n",
    "    else:\n",
    "        print(\"The no is +ve and odd\")\n",
    "else:\n",
    "    if a%2==0:\n",
    "        print(\"The no is -ve and even\")\n",
    "    else:\n",
    "        print(\"The no is -ve and odd\")"
   ]
  }
 ],
 "metadata": {
  "kernelspec": {
   "display_name": "Python 3 (ipykernel)",
   "language": "python",
   "name": "python3"
  },
  "language_info": {
   "codemirror_mode": {
    "name": "ipython",
    "version": 3
   },
   "file_extension": ".py",
   "mimetype": "text/x-python",
   "name": "python",
   "nbconvert_exporter": "python",
   "pygments_lexer": "ipython3",
   "version": "3.12.7"
  }
 },
 "nbformat": 4,
 "nbformat_minor": 5
}
