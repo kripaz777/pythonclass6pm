{
 "cells": [
  {
   "cell_type": "code",
   "execution_count": 1,
   "id": "2acef434-698f-4918-99c6-fa4ca40674ea",
   "metadata": {},
   "outputs": [],
   "source": [
    "# Dictionary\n",
    "# -Indexing\n",
    "# -Ordered\n",
    "# -Multiple and duplicate data\n",
    "# -Mutable"
   ]
  },
  {
   "cell_type": "code",
   "execution_count": 3,
   "id": "9e7edc40-956a-4770-bbc2-33587a2a77a5",
   "metadata": {},
   "outputs": [],
   "source": [
    "# d = {}\n",
    "# d = {<key>:<value>, <key>:<value>,...}"
   ]
  },
  {
   "cell_type": "code",
   "execution_count": 9,
   "id": "a857bcf2-032e-4b48-aed9-d748cad5c445",
   "metadata": {},
   "outputs": [
    {
     "name": "stdout",
     "output_type": "stream",
     "text": [
      "{'a': 'Apple', 'b': 'Ball', 'c': 'Cat'}\n",
      "<class 'dict'>\n"
     ]
    }
   ],
   "source": [
    "d = {'a':'Apple','b':\"Ball\",\"c\":'Cat'}\n",
    "print(d)\n",
    "print(type(d))"
   ]
  },
  {
   "cell_type": "code",
   "execution_count": 11,
   "id": "8b8adcce-8223-4a49-8cbe-54e37351b38e",
   "metadata": {},
   "outputs": [],
   "source": [
    "# d = {}\n",
    "# d = dict()"
   ]
  },
  {
   "cell_type": "code",
   "execution_count": 15,
   "id": "bea6e046-8f9b-4d5f-9eca-3a88578c0721",
   "metadata": {},
   "outputs": [
    {
     "name": "stdout",
     "output_type": "stream",
     "text": [
      "Apple\n",
      "Ball\n",
      "Cat\n"
     ]
    }
   ],
   "source": [
    "d = {'a':'Apple','b':\"Ball\",\"c\":'Cat'}\n",
    "print(d['a'])\n",
    "print(d['b'])\n",
    "print(d['c'])\n"
   ]
  },
  {
   "cell_type": "code",
   "execution_count": 23,
   "id": "348f0e2d-1ed1-49c4-b402-a3040fd84e3e",
   "metadata": {},
   "outputs": [
    {
     "data": {
      "text/plain": [
       "{'a': 'Ant', 'b': 'Ball', 'c': 'Cat'}"
      ]
     },
     "execution_count": 23,
     "metadata": {},
     "output_type": "execute_result"
    }
   ],
   "source": [
    "d = {'a':'Apple','b':\"Ball\",\"c\":'Cat','a':'Ant'}\n",
    "d"
   ]
  },
  {
   "cell_type": "code",
   "execution_count": 25,
   "id": "15ba3c9e-f8fa-44f8-b2f6-53bdd096db6a",
   "metadata": {},
   "outputs": [],
   "source": [
    "# CRUD"
   ]
  },
  {
   "cell_type": "code",
   "execution_count": 27,
   "id": "5b1acda0-d4f6-4173-9397-ff4d2abb4dbc",
   "metadata": {},
   "outputs": [
    {
     "name": "stdout",
     "output_type": "stream",
     "text": [
      "{'a': 'Apple', 'b': 'Ball', 'c': 'Cat'}\n"
     ]
    }
   ],
   "source": [
    "# Create\n",
    "d = dict()\n",
    "d['a'] = 'Apple'\n",
    "d['b'] = 'Ball'\n",
    "d['c'] = 'Cat'\n",
    "print(d)"
   ]
  },
  {
   "cell_type": "code",
   "execution_count": 29,
   "id": "fc518fdc-8bf6-4698-9b54-6d3feba2688b",
   "metadata": {},
   "outputs": [],
   "source": [
    "# In dict there is no + *"
   ]
  },
  {
   "cell_type": "code",
   "execution_count": 31,
   "id": "eaa7c10e-f03c-467d-9cdc-82602873d61c",
   "metadata": {},
   "outputs": [
    {
     "name": "stdout",
     "output_type": "stream",
     "text": [
      "{1: 1, 2: 4, 3: 9, 4: 16, 5: 25, 6: 36, 7: 49, 8: 64}\n"
     ]
    }
   ],
   "source": [
    "a = {1:1,2:4,3:9,4:16,5:25}\n",
    "b = {6:36,7:49,8:64}\n",
    "a.update(b)\n",
    "print(a)"
   ]
  },
  {
   "cell_type": "code",
   "execution_count": 33,
   "id": "e4cd987a-f2f0-43e4-939a-75bb22bb1893",
   "metadata": {},
   "outputs": [
    {
     "name": "stdin",
     "output_type": "stream",
     "text": [
      "Enter n =  2\n",
      "Enter name =  Ram\n",
      "Enter phone =  9808778765\n",
      "Enter name =  Shyam\n",
      "Enter phone =  9808778765\n"
     ]
    },
    {
     "name": "stdout",
     "output_type": "stream",
     "text": [
      "{'Ram': '9808778765', 'Shyam': '9808778765'}\n"
     ]
    }
   ],
   "source": [
    "d = {} #dict()\n",
    "n = int(input(\"Enter n = \"))\n",
    "for i in range(n):\n",
    "    name = input(\"Enter name = \")\n",
    "    phone = input(\"Enter phone = \")\n",
    "    d[name] = phone\n",
    "\n",
    "print(d)"
   ]
  },
  {
   "cell_type": "code",
   "execution_count": 43,
   "id": "1e17bdb9-7de4-40c1-a1cb-b03af5281aba",
   "metadata": {},
   "outputs": [
    {
     "name": "stdout",
     "output_type": "stream",
     "text": [
      "{'Ram': '9808778765', 'Shyam': '9808778765', 'Hari': '9808778765'}\n",
      "dict_values(['9808778765', '9808778765', '9808778765'])\n",
      "dict_keys(['Ram', 'Shyam', 'Hari'])\n",
      "dict_items([('Ram', '9808778765'), ('Shyam', '9808778765'), ('Hari', '9808778765')])\n"
     ]
    }
   ],
   "source": [
    "# Read\n",
    "a = {'Ram': '9808778765', 'Shyam': '9808778765','Hari':'9808778765'}\n",
    "print(a)\n",
    "print(a.values())\n",
    "print(a.keys())\n",
    "print(a.items())"
   ]
  },
  {
   "cell_type": "code",
   "execution_count": 45,
   "id": "ee7954c8-1790-4388-92e9-f35d604ed2c7",
   "metadata": {},
   "outputs": [
    {
     "name": "stdout",
     "output_type": "stream",
     "text": [
      "Ram\n",
      "Shyam\n",
      "Hari\n"
     ]
    }
   ],
   "source": [
    "for i in a:\n",
    "    print(i)"
   ]
  },
  {
   "cell_type": "code",
   "execution_count": 47,
   "id": "01170e54-b3e3-416c-9a8c-719b76154600",
   "metadata": {},
   "outputs": [
    {
     "name": "stdout",
     "output_type": "stream",
     "text": [
      "9808778765\n",
      "9808778765\n",
      "9808778765\n"
     ]
    }
   ],
   "source": [
    "for i in a.values():\n",
    "    print(i)"
   ]
  },
  {
   "cell_type": "code",
   "execution_count": 49,
   "id": "c808215c-b0a0-42b5-bcd8-f0690416de2d",
   "metadata": {},
   "outputs": [
    {
     "name": "stdout",
     "output_type": "stream",
     "text": [
      "('Ram', '9808778765')\n",
      "('Shyam', '9808778765')\n",
      "('Hari', '9808778765')\n"
     ]
    }
   ],
   "source": [
    "for i in a.items():\n",
    "    print(i)"
   ]
  },
  {
   "cell_type": "code",
   "execution_count": 57,
   "id": "2f99ae20-c70f-499a-9dfc-029af8e08283",
   "metadata": {},
   "outputs": [
    {
     "data": {
      "text/plain": [
       "{'Ram': '9808000000', 'Shyam': '9808778765', 'Hari': '9808778765'}"
      ]
     },
     "execution_count": 57,
     "metadata": {},
     "output_type": "execute_result"
    }
   ],
   "source": [
    "# Update\n",
    "a = {'Ram': '9808778765', 'Shyam': '9808778765','Hari':'9808778765'}\n",
    "a['Ram'] = '9808000000'\n",
    "a"
   ]
  },
  {
   "cell_type": "code",
   "execution_count": 59,
   "id": "37e929aa-376a-4756-8963-3ec92d4dd983",
   "metadata": {},
   "outputs": [],
   "source": [
    "# delete\n",
    "#del pop()"
   ]
  },
  {
   "cell_type": "code",
   "execution_count": 67,
   "id": "70851537-2e1b-4093-a2d7-7e8fd3f2c05f",
   "metadata": {},
   "outputs": [
    {
     "name": "stdout",
     "output_type": "stream",
     "text": [
      "{'Shyam': '9808778765', 'Hari': '9808778765'}\n"
     ]
    }
   ],
   "source": [
    "a = {'Ram': '9808778765', 'Shyam': '9808778765','Hari':'9808778765'}\n",
    "del a['Ram']\n",
    "print(a)"
   ]
  },
  {
   "cell_type": "code",
   "execution_count": 75,
   "id": "b51b57f2-1d35-46ba-bf2f-a4dc4ecd8033",
   "metadata": {},
   "outputs": [
    {
     "name": "stdout",
     "output_type": "stream",
     "text": [
      "{'Shyam': '9808778765', 'Hari': '9808778765'}\n",
      "9808778765\n"
     ]
    }
   ],
   "source": [
    "a = {'Ram': '9808778765', 'Shyam': '9808778765','Hari':'9808778765'}\n",
    "b = a.pop('Ram')\n",
    "print(a)\n",
    "print(b)"
   ]
  },
  {
   "cell_type": "code",
   "execution_count": 77,
   "id": "30a50d17-154b-4d59-9421-7e4907c9f0bc",
   "metadata": {},
   "outputs": [
    {
     "data": {
      "text/plain": [
       "{'Ram': [984567654, 9808778765],\n",
       " 'Shyam': [9845778761, 9808778765],\n",
       " 'Hari': [9849086765, 9808778765]}"
      ]
     },
     "execution_count": 77,
     "metadata": {},
     "output_type": "execute_result"
    }
   ],
   "source": [
    "# list inside dict\n",
    "d = {'Ram':[984567654,9808778765],\n",
    "    'Shyam':[9845778761,9808778765],\n",
    "    'Hari':[9849086765,9808778765]}\n",
    "d"
   ]
  },
  {
   "cell_type": "code",
   "execution_count": 79,
   "id": "8ae79dd8-0ca3-4a6a-9de0-ca58d26c0659",
   "metadata": {},
   "outputs": [
    {
     "name": "stdin",
     "output_type": "stream",
     "text": [
      "Enter n =  2\n",
      "Enter name =  Ram\n",
      "Enter ntc no =  9867887654\n",
      "Enter ncell no =  9808778765\n",
      "Enter name =  Shyam\n",
      "Enter ntc no =  9867667654\n",
      "Enter ncell no =  9808778765\n"
     ]
    },
    {
     "name": "stdout",
     "output_type": "stream",
     "text": [
      "{'Ram': ['9867887654', '9808778765'], 'Shyam': ['9867667654', '9808778765']}\n"
     ]
    }
   ],
   "source": [
    "d = {}\n",
    "n = int(input(\"Enter n = \"))\n",
    "for i in range(n):\n",
    "    name = input(\"Enter name = \")\n",
    "    ntc = input(\"Enter ntc no = \")\n",
    "    ncell = input(\"Enter ncell no = \")\n",
    "    d[name] = [ntc,ncell]\n",
    "\n",
    "print(d)"
   ]
  },
  {
   "cell_type": "code",
   "execution_count": 83,
   "id": "1a62de39-cd56-4950-bfc2-cac69aa454cb",
   "metadata": {},
   "outputs": [
    {
     "name": "stdout",
     "output_type": "stream",
     "text": [
      "9808778765\n"
     ]
    }
   ],
   "source": [
    "print(d['Ram'][1])"
   ]
  },
  {
   "cell_type": "code",
   "execution_count": 85,
   "id": "38e880e8-05f3-4b8c-b9eb-ac2ea9e07175",
   "metadata": {},
   "outputs": [
    {
     "data": {
      "text/plain": [
       "{'Ram': ['9867887654', '9808778764'], 'Shyam': ['9867667654', '9808778765']}"
      ]
     },
     "execution_count": 85,
     "metadata": {},
     "output_type": "execute_result"
    }
   ],
   "source": [
    "d['Ram'][1] = '9808778764'\n",
    "d"
   ]
  },
  {
   "cell_type": "code",
   "execution_count": 87,
   "id": "9e1e8d13-5c42-4a50-bbf9-7c8210c42f58",
   "metadata": {},
   "outputs": [
    {
     "data": {
      "text/plain": [
       "{'name': ['Ram', 'Shyam', 'Hari'],\n",
       " 'ntc': ['9845667654', '9845676654', '9867556543'],\n",
       " 'ncell': ['980878765', '9808778754', '9808667654']}"
      ]
     },
     "execution_count": 87,
     "metadata": {},
     "output_type": "execute_result"
    }
   ],
   "source": [
    "d = {'name':['Ram','Shyam','Hari'],\n",
    "    'ntc':['9845667654','9845676654','9867556543'],\n",
    "    'ncell':['980878765','9808778754','9808667654']}\n",
    "d"
   ]
  },
  {
   "cell_type": "code",
   "execution_count": 89,
   "id": "19695747-100f-410c-8386-79fcfcef9fb8",
   "metadata": {},
   "outputs": [
    {
     "name": "stdin",
     "output_type": "stream",
     "text": [
      "Enter n =  2\n",
      "Enter name =  Ram\n",
      "Enter ntc no =  9867665432\n",
      "Enter ncell no =  9808778765\n",
      "Enter name =  Shyam\n",
      "Enter ntc no =  9867665432\n",
      "Enter ncell no =  9808778765\n"
     ]
    },
    {
     "name": "stdout",
     "output_type": "stream",
     "text": [
      "{'name': ['Ram', 'Shyam'], 'ntc': ['9867665432', '9867665432'], 'ncell': ['9808778765', '9808778765']}\n"
     ]
    }
   ],
   "source": [
    "d = {'name':[],\n",
    "    'ntc':[],\n",
    "    'ncell':[]}\n",
    "\n",
    "n = int(input(\"Enter n = \"))\n",
    "for i in range(n):\n",
    "    name = input(\"Enter name = \")\n",
    "    ntc = input(\"Enter ntc no = \")\n",
    "    ncell = input(\"Enter ncell no = \")\n",
    "    d['name'].append(name)\n",
    "    d['ntc'].append(ntc)\n",
    "    d['ncell'].append(ncell)\n",
    "\n",
    "print(d)"
   ]
  },
  {
   "cell_type": "code",
   "execution_count": 95,
   "id": "4a2d5006-c68e-4659-9d1a-8a7dd4a0b858",
   "metadata": {},
   "outputs": [
    {
     "name": "stdout",
     "output_type": "stream",
     "text": [
      "Ram 9867665432 9808778765\n"
     ]
    }
   ],
   "source": [
    "print(d['name'][0],d['ntc'][0],d['ncell'][0])"
   ]
  },
  {
   "cell_type": "code",
   "execution_count": 99,
   "id": "8d04a4c4-c486-4abb-8f5d-03759f6cbb29",
   "metadata": {},
   "outputs": [
    {
     "data": {
      "text/plain": [
       "0"
      ]
     },
     "execution_count": 99,
     "metadata": {},
     "output_type": "execute_result"
    }
   ],
   "source": [
    "d['name'].index(\"Ram\")"
   ]
  },
  {
   "cell_type": "code",
   "execution_count": 105,
   "id": "5d049abb-728f-48ae-8d31-f5ca1b9c2fe4",
   "metadata": {},
   "outputs": [
    {
     "data": {
      "text/plain": [
       "{'name': ['Rama', 'Shyam'],\n",
       " 'ntc': ['9867665432', '9867665432'],\n",
       " 'ncell': ['9808778765', '9808778765']}"
      ]
     },
     "execution_count": 105,
     "metadata": {},
     "output_type": "execute_result"
    }
   ],
   "source": [
    "d['name'][0] = 'Rama'\n",
    "d"
   ]
  },
  {
   "cell_type": "code",
   "execution_count": 107,
   "id": "202bb7b6-9d65-428d-b75e-f05f842f7039",
   "metadata": {},
   "outputs": [
    {
     "data": {
      "text/plain": [
       "[{'name': 'Ram', 'ntc': '9845667656', 'ncell': '9808889845'},\n",
       " {'name': 'Shyam', 'ntc': '9845667651', 'ncell': '9808889840'},\n",
       " {'name': 'Hari', 'ntc': '9845667652', 'ncell': '9808889843'}]"
      ]
     },
     "execution_count": 107,
     "metadata": {},
     "output_type": "execute_result"
    }
   ],
   "source": [
    "#dict inside list\n",
    "l = [{'name':'Ram','ntc':'9845667656','ncell':'9808889845'},\n",
    "    {'name':'Shyam','ntc':'9845667651','ncell':'9808889840'},\n",
    "    {'name':'Hari','ntc':'9845667652','ncell':'9808889843'}]\n",
    "l"
   ]
  },
  {
   "cell_type": "code",
   "execution_count": 111,
   "id": "2175274c-7af5-4e82-a962-f0af4479fe8a",
   "metadata": {},
   "outputs": [
    {
     "name": "stdin",
     "output_type": "stream",
     "text": [
      "Enter n =  2\n",
      "Enter name =  Ram\n",
      "Enter ntc no =  9867667654\n",
      "Enter ncell no =  9808778765\n",
      "Enter name =  Shyam\n",
      "Enter ntc no =  9856778765\n",
      "Enter ncell no =  9808778765\n"
     ]
    },
    {
     "name": "stdout",
     "output_type": "stream",
     "text": [
      "{'name': ['Rama', 'Shyam'], 'ntc': ['9867665432', '9867665432'], 'ncell': ['9808778765', '9808778765']}\n"
     ]
    }
   ],
   "source": [
    "l = []\n",
    "n = int(input(\"Enter n = \"))\n",
    "for i in range(n):\n",
    "    name = input(\"Enter name = \")\n",
    "    ntc = input(\"Enter ntc no = \")\n",
    "    ncell = input(\"Enter ncell no = \")\n",
    "    x = {'name':name,'ntc':ntc,'ncell':ncell}\n",
    "    l.append(x)"
   ]
  },
  {
   "cell_type": "code",
   "execution_count": 115,
   "id": "34278a06-19f1-4ebd-9e76-828567da1a3e",
   "metadata": {},
   "outputs": [
    {
     "name": "stdout",
     "output_type": "stream",
     "text": [
      "[{'name': 'Ram', 'ntc': '9867667654', 'ncell': '9808778765'}, {'name': 'Shyam', 'ntc': '9856778765', 'ncell': '9808778765'}]\n"
     ]
    }
   ],
   "source": [
    "print(l)"
   ]
  },
  {
   "cell_type": "code",
   "execution_count": null,
   "id": "3609cf9d-bbc3-4559-b19f-62eaab0afa61",
   "metadata": {},
   "outputs": [],
   "source": []
  },
  {
   "cell_type": "code",
   "execution_count": 122,
   "id": "176424b2-8ce2-4d18-85f7-a2d24a838f76",
   "metadata": {},
   "outputs": [
    {
     "data": {
      "text/plain": [
       "{1: {'name': 'Ram', 'ntc': '9867667654', 'ncell': '9808778765'},\n",
       " 2: {'name': 'Shyam', 'ntc': '9856778765', 'ncell': '9808778765'}}"
      ]
     },
     "execution_count": 122,
     "metadata": {},
     "output_type": "execute_result"
    }
   ],
   "source": [
    "# dict inside dict\n",
    "d = {1:{'name': 'Ram', 'ntc': '9867667654', 'ncell': '9808778765'}, \n",
    "     2:{'name': 'Shyam', 'ntc': '9856778765', 'ncell': '9808778765'}}\n",
    "d"
   ]
  },
  {
   "cell_type": "code",
   "execution_count": null,
   "id": "7911a07e-435c-48b3-868c-587ee20e79cc",
   "metadata": {},
   "outputs": [],
   "source": [
    "1.create dict inside dict\n",
    "2.Do CRUD operation in\n",
    "    -dict inside list\n",
    "    -list inside dict\n",
    "    -dict inside dict"
   ]
  }
 ],
 "metadata": {
  "kernelspec": {
   "display_name": "Python 3 (ipykernel)",
   "language": "python",
   "name": "python3"
  },
  "language_info": {
   "codemirror_mode": {
    "name": "ipython",
    "version": 3
   },
   "file_extension": ".py",
   "mimetype": "text/x-python",
   "name": "python",
   "nbconvert_exporter": "python",
   "pygments_lexer": "ipython3",
   "version": "3.12.7"
  }
 },
 "nbformat": 4,
 "nbformat_minor": 5
}
