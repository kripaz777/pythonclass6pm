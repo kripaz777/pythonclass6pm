{
 "cells": [
  {
   "cell_type": "code",
   "execution_count": 2,
   "id": "7213f727-df4f-4039-a07d-eb5eee70871e",
   "metadata": {},
   "outputs": [],
   "source": [
    "# class A:\n",
    "#     <methods1>\n",
    "#     <methods2>\n",
    "\n",
    "# class B(A):\n",
    "#     <methods3>\n",
    "#     <methods4>\n",
    "\n",
    "# obj = B()\n",
    "# obj.<methods1>\n",
    "# obj.<methods3>"
   ]
  },
  {
   "cell_type": "code",
   "execution_count": 8,
   "id": "ffe806d5-44b4-4c78-94ec-fe3e1db58edd",
   "metadata": {},
   "outputs": [
    {
     "name": "stdin",
     "output_type": "stream",
     "text": [
      "Enter name =  Ram\n",
      "Enter age =  34\n",
      "Enetr add =  Kathmandu\n"
     ]
    },
    {
     "name": "stdout",
     "output_type": "stream",
     "text": [
      "Hello World I am Ram. I am from Kathmandu. I am 34\n",
      "Ram 34 Kathmandu\n"
     ]
    }
   ],
   "source": [
    "class Data:\n",
    "    def __init__(self):\n",
    "        self.name = input(\"Enter name = \")\n",
    "        self.age = int(input(\"Enter age = \"))\n",
    "        self.add = input(\"Enetr add = \")\n",
    "    def data(self):\n",
    "        print(self.name,self.age,self.add)\n",
    "\n",
    "class Info(Data):\n",
    "    def info(self):\n",
    "        a = f\"Hello World I am {self.name}. I am from {self.add}. I am {self.age}\"\n",
    "        print(a)\n",
    "\n",
    "\n",
    "obj = Info()\n",
    "obj.info()\n",
    "obj.data()"
   ]
  },
  {
   "cell_type": "code",
   "execution_count": 20,
   "id": "8d968cd7-c43e-4875-9e70-67122d7f0b1e",
   "metadata": {},
   "outputs": [
    {
     "name": "stdin",
     "output_type": "stream",
     "text": [
      "Enter phone no =  9808778765\n",
      "Enter name =  Ram\n",
      "Enter age =  45\n",
      "Enetr add =  Kathmandu\n"
     ]
    },
    {
     "name": "stdout",
     "output_type": "stream",
     "text": [
      "Hello World I am Ram. I am from Kathmandu. I am 45. My phone no is 9808778765\n",
      "Ram 45 Kathmandu\n"
     ]
    }
   ],
   "source": [
    "class Data:\n",
    "    def __init__(self):\n",
    "        self.name = input(\"Enter name = \")\n",
    "        self.age = int(input(\"Enter age = \"))\n",
    "        self.add = input(\"Enetr add = \")\n",
    "        \n",
    "    def data(self):\n",
    "        print(self.name,self.age,self.add)\n",
    "\n",
    "class Info(Data):\n",
    "    def __init__(self):\n",
    "        self.phone = input(\"Enter phone no = \")\n",
    "        Data.__init__(self)\n",
    "        \n",
    "    def info(self):\n",
    "        a = f\"Hello World I am {self.name}. I am from {self.add}. I am {self.age}. My phone no is {self.phone}\"\n",
    "        print(a)\n",
    "\n",
    "\n",
    "obj = Info()\n",
    "obj.info()\n",
    "obj.data()"
   ]
  },
  {
   "cell_type": "code",
   "execution_count": 24,
   "id": "e25fe14e-7483-49ea-b256-c6c100c91e89",
   "metadata": {},
   "outputs": [
    {
     "name": "stdin",
     "output_type": "stream",
     "text": [
      "Enter name =  Ram\n",
      "Enter age =  78\n",
      "Enetr add =  Kathmandu\n"
     ]
    },
    {
     "name": "stdout",
     "output_type": "stream",
     "text": [
      "Hello World I am Ram. I am from Kathmandu. I am 78\n",
      "Ram 78 Kathmandu\n"
     ]
    }
   ],
   "source": [
    "class Data:\n",
    "    def __init__(self,name,age,add):\n",
    "        self.name = name\n",
    "        self.age = age\n",
    "        self.add = add\n",
    "    def data(self):\n",
    "        print(self.name,self.age,self.add)\n",
    "\n",
    "class Info(Data):\n",
    "    def info(self):\n",
    "        a = f\"Hello World I am {self.name}. I am from {self.add}. I am {self.age}\"\n",
    "        print(a)\n",
    "\n",
    "name = input(\"Enter name = \")\n",
    "age = int(input(\"Enter age = \"))\n",
    "add = input(\"Enetr add = \")\n",
    "obj = Info(name,age,add)\n",
    "obj.info()\n",
    "obj.data()"
   ]
  },
  {
   "cell_type": "code",
   "execution_count": 29,
   "id": "f121a1e8-a967-4a6f-85b3-0428c9bc30e1",
   "metadata": {},
   "outputs": [
    {
     "name": "stdin",
     "output_type": "stream",
     "text": [
      "Enter name =  Ram\n",
      "Enter age =  34\n",
      "Enetr add =  Kathmandu\n",
      "Enter phone =  980878765\n"
     ]
    },
    {
     "name": "stdout",
     "output_type": "stream",
     "text": [
      "Hello World I am Ram. I am from Kathmandu. I am 34. My phone no is 980878765\n",
      "Ram 34 Kathmandu\n"
     ]
    }
   ],
   "source": [
    "class Data:\n",
    "    def __init__(self,name,age,add):\n",
    "        self.name = name\n",
    "        self.age = age\n",
    "        self.add = add\n",
    "    def data(self):\n",
    "        print(self.name,self.age,self.add)\n",
    "\n",
    "class Info(Data):\n",
    "    def __init__(self,name,age,add,phone):\n",
    "        self.phone = phone\n",
    "        Data. __init__(self,name,age,add)\n",
    "    def info(self):\n",
    "        a = f\"Hello World I am {self.name}. I am from {self.add}. I am {self.age}. My phone no is {self.phone}\"\n",
    "        print(a)\n",
    "\n",
    "name = input(\"Enter name = \")\n",
    "age = int(input(\"Enter age = \"))\n",
    "add = input(\"Enetr add = \")\n",
    "phone  = input(\"Enter phone = \")\n",
    "obj = Info(name,age,add,phone)\n",
    "obj.info()\n",
    "obj.data()"
   ]
  },
  {
   "cell_type": "code",
   "execution_count": 2,
   "id": "106c3d80-74dc-4b01-a85c-8e5bda174501",
   "metadata": {},
   "outputs": [],
   "source": [
    "# Types\n",
    "#Multi level inheritance\n",
    "#Multiple Inheritance"
   ]
  },
  {
   "cell_type": "code",
   "execution_count": null,
   "id": "d938bad5-e519-4a0c-a850-52765b9d22da",
   "metadata": {},
   "outputs": [],
   "source": [
    "#Multi level inheritance\n",
    "class A:\n",
    "    pass\n",
    "class B(A):\n",
    "    pass\n",
    "class C(B):\n",
    "    pass\n",
    "\n",
    "obj = C()"
   ]
  },
  {
   "cell_type": "code",
   "execution_count": 4,
   "id": "c8484197-b2e9-4424-91f7-e0d382ac48ca",
   "metadata": {},
   "outputs": [
    {
     "name": "stdin",
     "output_type": "stream",
     "text": [
      "Enter name =  Ram\n",
      "Enter age =  34\n",
      "Enetr add =  Kathmandu\n",
      "Enter phone =  9808778745\n"
     ]
    },
    {
     "name": "stdout",
     "output_type": "stream",
     "text": [
      "Hello World I am Ram. I am from Kathmandu. I am 34. My phone no is 9808778745\n",
      "Ram 34\n"
     ]
    }
   ],
   "source": [
    "class MyAddress:\n",
    "    def __init__(self,add):\n",
    "        self.add = add\n",
    "    def adds(self):\n",
    "        print(self.add)\n",
    "class Data(MyAddress):\n",
    "    def __init__(self,name,age,add):\n",
    "        self.name = name\n",
    "        self.age = age\n",
    "        MyAddress.__init__(self,add)\n",
    "    def data(self):\n",
    "        print(self.name,self.age)\n",
    "\n",
    "class Info(Data):\n",
    "    def __init__(self,name,age,add,phone):\n",
    "        self.phone = phone\n",
    "        Data.__init__(self,name,age,add)\n",
    "    def info(self):\n",
    "        a = f\"Hello World I am {self.name}. I am from {self.add}. I am {self.age}. My phone no is {self.phone}\"\n",
    "        print(a)\n",
    "\n",
    "name = input(\"Enter name = \")\n",
    "age = int(input(\"Enter age = \"))\n",
    "add = input(\"Enetr add = \")\n",
    "phone  = input(\"Enter phone = \")\n",
    "obj = Info(name,age,add,phone)\n",
    "obj.info()\n",
    "obj.data()"
   ]
  },
  {
   "cell_type": "code",
   "execution_count": null,
   "id": "24da05b9-73df-4b03-9e29-3ac37f4c3661",
   "metadata": {},
   "outputs": [],
   "source": [
    "# Multiple inheritance\n",
    "class A:\n",
    "    pass\n",
    "class B:\n",
    "    pass\n",
    "class C(A,B):\n",
    "    pass\n",
    "\n",
    "obj = C()"
   ]
  },
  {
   "cell_type": "code",
   "execution_count": 8,
   "id": "501479bb-c239-459e-84a5-5260a1be96fa",
   "metadata": {},
   "outputs": [
    {
     "name": "stdin",
     "output_type": "stream",
     "text": [
      "Enter name =  Ram\n",
      "Enter age =  34\n",
      "Enetr add =  Kathmandu\n",
      "Enter phone =  9808778765\n"
     ]
    },
    {
     "name": "stdout",
     "output_type": "stream",
     "text": [
      "Hello World I am Ram. I am from Kathmandu. I am 34. My phone no is 9808778765\n",
      "Ram 34\n"
     ]
    }
   ],
   "source": [
    "class MyAddress:\n",
    "    def __init__(self,add):\n",
    "        self.add = add\n",
    "    def adds(self):\n",
    "        print(self.add)\n",
    "        \n",
    "class Data:\n",
    "    def __init__(self,name,age):\n",
    "        self.name = name\n",
    "        self.age = age\n",
    "    def data(self):\n",
    "        print(self.name,self.age)\n",
    "\n",
    "class Info(MyAddress,Data):\n",
    "    def __init__(self,name,age,add,phone):\n",
    "        self.phone = phone\n",
    "        Data.__init__(self,name,age)\n",
    "        MyAddress.__init__(self,add)\n",
    "    def info(self):\n",
    "        a = f\"Hello World I am {self.name}. I am from {self.add}. I am {self.age}. My phone no is {self.phone}\"\n",
    "        print(a)\n",
    "\n",
    "name = input(\"Enter name = \")\n",
    "age = int(input(\"Enter age = \"))\n",
    "add = input(\"Enetr add = \")\n",
    "phone  = input(\"Enter phone = \")\n",
    "obj = Info(name,age,add,phone)\n",
    "obj.info()\n",
    "obj.data()"
   ]
  },
  {
   "cell_type": "code",
   "execution_count": 10,
   "id": "e106393b-31f4-4b44-9a88-1794540a38be",
   "metadata": {},
   "outputs": [],
   "source": [
    "# Private, Protected and public members"
   ]
  },
  {
   "cell_type": "code",
   "execution_count": 12,
   "id": "4b0a3035-9e32-427b-b4be-0d65cc350efa",
   "metadata": {},
   "outputs": [
    {
     "name": "stdout",
     "output_type": "stream",
     "text": [
      "Ram\n",
      "45\n",
      "Kathmandu\n"
     ]
    }
   ],
   "source": [
    "# Public member\n",
    "class Info:\n",
    "    def __init__(self):\n",
    "        self.name = \"Ram\"\n",
    "        self.age = 45\n",
    "        self.add = \"Kathmandu\"\n",
    "\n",
    "\n",
    "obj = Info()\n",
    "print(obj.name)\n",
    "print(obj.age)\n",
    "print(obj.add)"
   ]
  },
  {
   "cell_type": "code",
   "execution_count": 16,
   "id": "97953ace-fa4e-48fd-a89a-cbb211192655",
   "metadata": {},
   "outputs": [
    {
     "name": "stdout",
     "output_type": "stream",
     "text": [
      "Ram\n",
      "45\n",
      "Kathmandu\n"
     ]
    }
   ],
   "source": [
    "# Protected member\n",
    "class Info:\n",
    "    def __init__(self):\n",
    "        self._name = \"Ram\"\n",
    "        self._age = 45\n",
    "        self._add = \"Kathmandu\"\n",
    "\n",
    "\n",
    "obj = Info()\n",
    "print(obj._name)\n",
    "print(obj._age)\n",
    "print(obj._add)"
   ]
  },
  {
   "cell_type": "code",
   "execution_count": 25,
   "id": "b3644667-c7cc-4ab0-90a4-5ac329916f18",
   "metadata": {},
   "outputs": [
    {
     "name": "stdout",
     "output_type": "stream",
     "text": [
      "Ram 45 Kathmandu\n"
     ]
    }
   ],
   "source": [
    "# Private member\n",
    "class Info:\n",
    "    def __init__(self):\n",
    "        self.__name = \"Ram\"\n",
    "        self.__age = 45\n",
    "        self.__add = \"Kathmandu\"\n",
    "    def my_info(self):\n",
    "        print(self.__name,self.__age,self.__add)\n",
    "\n",
    "\n",
    "obj = Info()\n",
    "obj.my_info()\n",
    "# print(obj.__name)\n",
    "# print(obj.__age)\n",
    "# print(obj.__add)"
   ]
  },
  {
   "cell_type": "code",
   "execution_count": 27,
   "id": "2f6b6172-7938-47a3-aa86-ebf3d15a3019",
   "metadata": {},
   "outputs": [
    {
     "name": "stdin",
     "output_type": "stream",
     "text": [
      "Enter name =  Ram\n",
      "Enter age =  34\n",
      "Enetr add =  Kathmandu\n"
     ]
    },
    {
     "name": "stdout",
     "output_type": "stream",
     "text": [
      "Hello World I am Ram. I am 34.\n",
      "Ram 34 Kathmandu\n"
     ]
    }
   ],
   "source": [
    "class Data:\n",
    "    def __init__(self,name,age,add):\n",
    "        self.name = name  #public member\n",
    "        self._age = age   #protected member\n",
    "        self.__add = add  #private members\n",
    "    def data(self):\n",
    "        print(self.name,self._age,self.__add)\n",
    "\n",
    "class Info(Data):\n",
    "    def info(self):\n",
    "        a = f\"Hello World I am {self.name}. I am {self._age}.\"\n",
    "        print(a)\n",
    "\n",
    "name = input(\"Enter name = \")\n",
    "age = int(input(\"Enter age = \"))\n",
    "add = input(\"Enetr add = \")\n",
    "obj = Info(name,age,add)\n",
    "obj.info()\n",
    "obj.data()"
   ]
  },
  {
   "cell_type": "code",
   "execution_count": 32,
   "id": "36cd9d16-00b9-4bae-b87d-ac56d29d2fd4",
   "metadata": {},
   "outputs": [
    {
     "name": "stdin",
     "output_type": "stream",
     "text": [
      "Enter name =  Ram\n",
      "Enter age =  34\n",
      "Enetr add =  Kathmandu\n"
     ]
    },
    {
     "name": "stdout",
     "output_type": "stream",
     "text": [
      "Kathmandu\n",
      "Hello World I am Ram. I am from Kathmandu.I am 34.\n",
      "Ram 34 Kathmandu\n"
     ]
    }
   ],
   "source": [
    "class Data:\n",
    "    def __init__(self,name,age,add):\n",
    "        self.name = name  #public member\n",
    "        self._age = age   #protected member\n",
    "        self.__add = add  #private members\n",
    "    def data(self):\n",
    "        print(self.name,self._age,self.__add)\n",
    "    def myadd(self):\n",
    "        return self.__add\n",
    "\n",
    "class Info(Data):\n",
    "    def info(self):\n",
    "        ad = Data.myadd(self)\n",
    "        a = f\"Hello World I am {self.name}. I am from {ad}.I am {self._age}.\"\n",
    "        print(a)\n",
    "\n",
    "name = input(\"Enter name = \")\n",
    "age = int(input(\"Enter age = \"))\n",
    "add = input(\"Enetr add = \")\n",
    "obj = Info(name,age,add)\n",
    "print(obj.name)                          #accessing public members\n",
    "obj.info()\n",
    "obj.data()"
   ]
  },
  {
   "cell_type": "code",
   "execution_count": null,
   "id": "abbb87f1-3c0f-4490-a2d8-0cae2599cb6e",
   "metadata": {},
   "outputs": [],
   "source": []
  }
 ],
 "metadata": {
  "kernelspec": {
   "display_name": "Python 3 (ipykernel)",
   "language": "python",
   "name": "python3"
  },
  "language_info": {
   "codemirror_mode": {
    "name": "ipython",
    "version": 3
   },
   "file_extension": ".py",
   "mimetype": "text/x-python",
   "name": "python",
   "nbconvert_exporter": "python",
   "pygments_lexer": "ipython3",
   "version": "3.12.7"
  }
 },
 "nbformat": 4,
 "nbformat_minor": 5
}
