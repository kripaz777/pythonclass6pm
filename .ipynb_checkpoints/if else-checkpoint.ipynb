{
 "cells": [
  {
   "cell_type": "code",
   "execution_count": 1,
   "id": "71bbe0e8-b683-4333-b7ec-48938156ed42",
   "metadata": {},
   "outputs": [],
   "source": [
    "# > < >= <= == != "
   ]
  },
  {
   "cell_type": "code",
   "execution_count": 2,
   "id": "37d9555e-d279-4b0f-91ec-9bb8d40342c5",
   "metadata": {},
   "outputs": [],
   "source": [
    "# if <condition>:\n",
    "#     <operations>\n",
    "# elif <condition>:\n",
    "#     <operations>\n",
    "# ...\n",
    "# else:\n",
    "#     <operations>"
   ]
  },
  {
   "cell_type": "code",
   "execution_count": null,
   "id": "9f72ae35-0229-4ed6-9591-799d18c9a373",
   "metadata": {},
   "outputs": [],
   "source": []
  },
  {
   "cell_type": "code",
   "execution_count": null,
   "id": "edfecdae-229d-4351-a589-7990036542ee",
   "metadata": {},
   "outputs": [],
   "source": []
  }
 ],
 "metadata": {
  "kernelspec": {
   "display_name": "Python 3 (ipykernel)",
   "language": "python",
   "name": "python3"
  },
  "language_info": {
   "codemirror_mode": {
    "name": "ipython",
    "version": 3
   },
   "file_extension": ".py",
   "mimetype": "text/x-python",
   "name": "python",
   "nbconvert_exporter": "python",
   "pygments_lexer": "ipython3",
   "version": "3.12.7"
  }
 },
 "nbformat": 4,
 "nbformat_minor": 5
}
