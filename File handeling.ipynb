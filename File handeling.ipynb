{
 "cells": [
  {
   "cell_type": "code",
   "execution_count": 1,
   "id": "9406bf79-2415-4db4-b7ba-1631cc385d46",
   "metadata": {},
   "outputs": [],
   "source": [
    "# file handeling\n",
    "# file = open('<file_name>','<mode>')\n",
    "# file.close()\n",
    "\n",
    "# with open('<file_name>',<'mode'>) as file:\n",
    "#     <operations>\n",
    "\n",
    "# modes\n",
    "# create -> x\n",
    "# read -> r\n",
    "# append -> a\n",
    "# write -> w"
   ]
  },
  {
   "cell_type": "code",
   "execution_count": 3,
   "id": "0eaed78c-4560-4b3c-b5f7-f4183d621e24",
   "metadata": {},
   "outputs": [],
   "source": [
    "file = open('data.txt','x')\n",
    "file.close()"
   ]
  },
  {
   "cell_type": "code",
   "execution_count": 5,
   "id": "207d3324-966f-4bab-8165-fa724b6b9067",
   "metadata": {},
   "outputs": [
    {
     "name": "stdout",
     "output_type": "stream",
     "text": [
      "The file is created\n"
     ]
    }
   ],
   "source": [
    "with open('data1.txt','x') as file:\n",
    "    print(\"The file is created\")"
   ]
  },
  {
   "cell_type": "code",
   "execution_count": 9,
   "id": "40e342c4-63f1-4dc3-8044-9a496703e8cc",
   "metadata": {},
   "outputs": [
    {
     "name": "stdout",
     "output_type": "stream",
     "text": [
      "1. Hello World\n",
      "2. Hello World\n",
      "3. Hello World\n",
      "4. Hello World\n",
      "5. Hello World\n"
     ]
    }
   ],
   "source": [
    "file = open('data1.txt','r')\n",
    "data = file.read()\n",
    "print(data)\n",
    "file.close()"
   ]
  },
  {
   "cell_type": "code",
   "execution_count": 15,
   "id": "65e56500-cca9-4b31-82db-546a8f67941d",
   "metadata": {},
   "outputs": [],
   "source": [
    "file = open('data2.txt','w')\n",
    "data = \"Hello World\"\n",
    "file.write(data)\n",
    "file.close()"
   ]
  },
  {
   "cell_type": "code",
   "execution_count": 21,
   "id": "b5d13785-3f7b-4517-85db-44b8baf229db",
   "metadata": {},
   "outputs": [
    {
     "name": "stdin",
     "output_type": "stream",
     "text": [
      "Enter n =  2\n",
      "Product name =  Momo\n",
      "Enter price 200\n",
      "Enter qty =  4\n",
      "Product name =  Coke\n",
      "Enter price 100\n",
      "Enter qty =  4\n"
     ]
    },
    {
     "name": "stdout",
     "output_type": "stream",
     "text": [
      "Your bill is\n",
      " Momo 200 4.0 800.0\n",
      "Coke 100 4.0 400.0\n",
      "\n",
      "Your Total\n",
      " 1200.0\n"
     ]
    }
   ],
   "source": [
    "bill = \"\"\n",
    "all_total = 0\n",
    "n = int(input(\"Enter n = \"))\n",
    "for i in range(n):\n",
    "    name = input(\"Product name = \")\n",
    "    price = int(input(\"Enter price\"))\n",
    "    qty = float(input(\"Enter qty = \"))\n",
    "    total = price * qty\n",
    "    info = f\"{name} {price} {qty} {total}\\n\"\n",
    "    bill = bill + info\n",
    "    all_total = all_total + total\n",
    "\n",
    "print(\"Your bill is\\n\",bill)\n",
    "print(\"Your Total\\n\",all_total)\n",
    "\n",
    "file = open('data2.txt','w')\n",
    "file.write(\"name price qty total\\n\")\n",
    "file.write(bill)\n",
    "file.write(f\"{all_total}\")\n",
    "file.close()"
   ]
  },
  {
   "cell_type": "code",
   "execution_count": 27,
   "id": "2f28d701-cb10-4ff3-a150-f42533391976",
   "metadata": {},
   "outputs": [
    {
     "name": "stdin",
     "output_type": "stream",
     "text": [
      "Enter n =  2\n",
      "Product name =  Momo\n",
      "Enter price 150\n",
      "Enter qty =  3\n",
      "Product name =  Coke\n",
      "Enter price 100\n",
      "Enter qty =  4\n"
     ]
    },
    {
     "name": "stdout",
     "output_type": "stream",
     "text": [
      "Your bill is\n",
      " Momo 150 3.0 450.0\n",
      "Coke 100 4.0 400.0\n",
      "\n"
     ]
    }
   ],
   "source": [
    "bill = \"\"\n",
    "n = int(input(\"Enter n = \"))\n",
    "for i in range(n):\n",
    "    name = input(\"Product name = \")\n",
    "    price = int(input(\"Enter price\"))\n",
    "    qty = float(input(\"Enter qty = \"))\n",
    "    total = price * qty\n",
    "    info = f\"{name} {price} {qty} {total}\\n\"\n",
    "    bill = bill + info\n",
    "\n",
    "print(\"Your bill is\\n\",bill)\n",
    "\n",
    "file = open('bill.txt','a')\n",
    "file.write(\"name price qty total\\n\")\n",
    "file.write(bill)\n",
    "file.close()"
   ]
  },
  {
   "cell_type": "code",
   "execution_count": 29,
   "id": "81da39d0-5fa2-4b88-af38-24b44a12d2c5",
   "metadata": {},
   "outputs": [
    {
     "name": "stdin",
     "output_type": "stream",
     "text": [
      "Enter n =  2\n",
      "Product name =  Momo\n",
      "Enter price 200\n",
      "Enter qty =  3\n",
      "Product name =  Coke\n",
      "Enter price 100\n",
      "Enter qty =  3\n"
     ]
    },
    {
     "name": "stdout",
     "output_type": "stream",
     "text": [
      "Your bill is\n",
      " Momo,200,3.0,600.0\n",
      "Coke,100,3.0,300.0\n",
      "\n"
     ]
    }
   ],
   "source": [
    "#csv\n",
    "bill = \"\"\n",
    "n = int(input(\"Enter n = \"))\n",
    "for i in range(n):\n",
    "    name = input(\"Product name = \")\n",
    "    price = int(input(\"Enter price\"))\n",
    "    qty = float(input(\"Enter qty = \"))\n",
    "    total = price * qty\n",
    "    info = f\"{name},{price},{qty},{total}\\n\"\n",
    "    bill = bill + info\n",
    "\n",
    "print(\"Your bill is\\n\",bill)\n",
    "\n",
    "file = open('bill.csv','w')\n",
    "file.write(\"name,price,qty,total\\n\")\n",
    "file.write(bill)\n",
    "file.close()"
   ]
  },
  {
   "cell_type": "code",
   "execution_count": 36,
   "id": "a70be82d-45e6-41ab-929e-3839636b40cb",
   "metadata": {},
   "outputs": [
    {
     "data": {
      "text/plain": [
       "[['name', 'price', 'qty', 'total'],\n",
       " ['Momo', 200, 3.0, 600.0],\n",
       " ['Coke', 100, 3.0, 300.0]]"
      ]
     },
     "execution_count": 36,
     "metadata": {},
     "output_type": "execute_result"
    }
   ],
   "source": [
    "# list inside list\n",
    "a = [['name','price','qty','total'],\n",
    "    ['Momo',200,3.0,600.0],\n",
    "    ['Coke',100,3.0,300.0]]\n",
    "a"
   ]
  },
  {
   "cell_type": "code",
   "execution_count": 38,
   "id": "e5c60e2d-4ff3-483e-8b05-440ca37c5ac3",
   "metadata": {},
   "outputs": [],
   "source": [
    "import csv\n",
    "file = open('list_file.csv','w')\n",
    "x = csv.writer(file)\n",
    "x.writerows(a)\n",
    "file.close()"
   ]
  },
  {
   "cell_type": "code",
   "execution_count": 42,
   "id": "c1683a96-083c-4bc8-b1cd-3767dc1ea90e",
   "metadata": {},
   "outputs": [
    {
     "name": "stdout",
     "output_type": "stream",
     "text": [
      "name,price,qty,total\n",
      "\n",
      "Momo,200,3.0,600.0\n",
      "\n",
      "Coke,100,3.0,300.0\n",
      "\n",
      "\n"
     ]
    }
   ],
   "source": [
    "file = open('list_file.csv','r')\n",
    "data = file.read()\n",
    "print(data)\n",
    "file.close()"
   ]
  },
  {
   "cell_type": "code",
   "execution_count": 44,
   "id": "94138218-59d9-4dfe-a2ab-0e78967c7696",
   "metadata": {},
   "outputs": [
    {
     "data": {
      "text/html": [
       "<div>\n",
       "<style scoped>\n",
       "    .dataframe tbody tr th:only-of-type {\n",
       "        vertical-align: middle;\n",
       "    }\n",
       "\n",
       "    .dataframe tbody tr th {\n",
       "        vertical-align: top;\n",
       "    }\n",
       "\n",
       "    .dataframe thead th {\n",
       "        text-align: right;\n",
       "    }\n",
       "</style>\n",
       "<table border=\"1\" class=\"dataframe\">\n",
       "  <thead>\n",
       "    <tr style=\"text-align: right;\">\n",
       "      <th></th>\n",
       "      <th>name</th>\n",
       "      <th>price</th>\n",
       "      <th>qty</th>\n",
       "      <th>total</th>\n",
       "    </tr>\n",
       "  </thead>\n",
       "  <tbody>\n",
       "    <tr>\n",
       "      <th>0</th>\n",
       "      <td>Momo</td>\n",
       "      <td>200</td>\n",
       "      <td>3.0</td>\n",
       "      <td>600.0</td>\n",
       "    </tr>\n",
       "    <tr>\n",
       "      <th>1</th>\n",
       "      <td>Coke</td>\n",
       "      <td>100</td>\n",
       "      <td>3.0</td>\n",
       "      <td>300.0</td>\n",
       "    </tr>\n",
       "  </tbody>\n",
       "</table>\n",
       "</div>"
      ],
      "text/plain": [
       "   name  price  qty  total\n",
       "0  Momo    200  3.0  600.0\n",
       "1  Coke    100  3.0  300.0"
      ]
     },
     "execution_count": 44,
     "metadata": {},
     "output_type": "execute_result"
    }
   ],
   "source": [
    "import pandas as pd\n",
    "df = pd.read_csv('list_file.csv')\n",
    "df"
   ]
  },
  {
   "cell_type": "code",
   "execution_count": 46,
   "id": "92c62c2a-280b-4833-a3ae-af094ff86827",
   "metadata": {},
   "outputs": [
    {
     "name": "stdout",
     "output_type": "stream",
     "text": [
      "{'name': 'Momo', 'price': '200', 'qty': '3.0', 'total': '600.0'}\n",
      "{'name': 'Coke', 'price': '100', 'qty': '3.0', 'total': '300.0'}\n"
     ]
    }
   ],
   "source": [
    "import csv\n",
    "file = open('list_file.csv','r')\n",
    "reader = csv.DictReader(file)\n",
    "for row in reader:\n",
    "    print(row)\n"
   ]
  },
  {
   "cell_type": "code",
   "execution_count": 50,
   "id": "10693746-0fea-493d-81ff-795fb25918fd",
   "metadata": {},
   "outputs": [],
   "source": [
    "import csv\n",
    "csv_columns = ['Name', 'Age', 'Address']\n",
    "dict = [\n",
    "    {'Name':'Aayush','Age':23,'Address':'Katmandu'},\n",
    "    {'Name':'Shyam','Age':33,'Address':'Patan'}\n",
    "]\n",
    "\n",
    "file = open(\"dict_data.csv\", 'w')\n",
    "writer = csv.DictWriter(file, fieldnames=csv_columns)\n",
    "writer.writeheader()\n",
    "for data in dict:\n",
    "    writer.writerow(data)"
   ]
  },
  {
   "cell_type": "code",
   "execution_count": null,
   "id": "9e3699bd-7fc3-4416-b3d9-88b1cb5ac1f6",
   "metadata": {},
   "outputs": [],
   "source": []
  }
 ],
 "metadata": {
  "kernelspec": {
   "display_name": "Python 3 (ipykernel)",
   "language": "python",
   "name": "python3"
  },
  "language_info": {
   "codemirror_mode": {
    "name": "ipython",
    "version": 3
   },
   "file_extension": ".py",
   "mimetype": "text/x-python",
   "name": "python",
   "nbconvert_exporter": "python",
   "pygments_lexer": "ipython3",
   "version": "3.12.7"
  }
 },
 "nbformat": 4,
 "nbformat_minor": 5
}
