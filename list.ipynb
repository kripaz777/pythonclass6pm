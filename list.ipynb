{
 "cells": [
  {
   "cell_type": "code",
   "execution_count": 1,
   "id": "1eedc447-54d6-4ec7-8873-c254ab4fd449",
   "metadata": {},
   "outputs": [],
   "source": [
    "# Python collections\n",
    "# List\n",
    "# Tuple\n",
    "# Dictionary\n",
    "# Set"
   ]
  },
  {
   "cell_type": "code",
   "execution_count": 3,
   "id": "e05c9b9c-39ff-422f-a0bc-4d1fe42b3ec6",
   "metadata": {},
   "outputs": [],
   "source": [
    "# List\n",
    "# -Indexing\n",
    "# -Ordered\n",
    "# -Multiple and duplicate data\n",
    "# -Mutable"
   ]
  },
  {
   "cell_type": "code",
   "execution_count": 5,
   "id": "ca859e29-dd5f-4461-a3bd-bf6dd123691b",
   "metadata": {},
   "outputs": [
    {
     "name": "stdout",
     "output_type": "stream",
     "text": [
      "<class 'list'>\n"
     ]
    }
   ],
   "source": [
    "l = list()\n",
    "l = []\n",
    "print(type(l))"
   ]
  },
  {
   "cell_type": "code",
   "execution_count": 11,
   "id": "511cadb5-1285-460b-a851-69fb31615b23",
   "metadata": {},
   "outputs": [
    {
     "name": "stdout",
     "output_type": "stream",
     "text": [
      "<class 'list'>\n",
      "<class 'list'>\n"
     ]
    }
   ],
   "source": [
    "a = [1,2,3,4,5,6,7,8,9,10]\n",
    "b = [\"Apple\",\"Ball\",\"Cat\",\"Dog\",\"Fish\",\"Apple\"]\n",
    "print(type(a))\n",
    "print(type(b))"
   ]
  },
  {
   "cell_type": "code",
   "execution_count": 13,
   "id": "e978aaa4-1f09-49d5-a7df-e2e38e772de0",
   "metadata": {},
   "outputs": [
    {
     "name": "stdout",
     "output_type": "stream",
     "text": [
      "10\n",
      "6\n"
     ]
    }
   ],
   "source": [
    "print(len(a))\n",
    "print(len(b))"
   ]
  },
  {
   "cell_type": "code",
   "execution_count": 15,
   "id": "e52c0c20-4e49-44dd-8501-e0d571009a13",
   "metadata": {},
   "outputs": [
    {
     "name": "stdout",
     "output_type": "stream",
     "text": [
      "['Apple', 'Ball', 'Cat', 'Dog', 'Fish', 'Apple']\n"
     ]
    }
   ],
   "source": [
    "print(b)"
   ]
  },
  {
   "cell_type": "code",
   "execution_count": 29,
   "id": "d787969a-75ea-4414-a201-e213ba2ba808",
   "metadata": {},
   "outputs": [
    {
     "name": "stdout",
     "output_type": "stream",
     "text": [
      "['Apple', 'Ball', 'Cat', 'Dog', 'Fish']\n",
      "Apple\n",
      "Fish\n",
      "['Apple', 'Ball', 'Cat']\n",
      "['Apple', 'Cat', 'Fish']\n",
      "['Fish', 'Dog', 'Cat', 'Ball', 'Apple']\n"
     ]
    }
   ],
   "source": [
    "# -Indexing\n",
    "b = ['Apple', 'Ball', 'Cat', 'Dog', 'Fish']\n",
    "print(b)\n",
    "print(b[0])\n",
    "print(b[-1])\n",
    "print(b[0:3])\n",
    "print(b[0:6:2])\n",
    "print(b[::-1])"
   ]
  },
  {
   "cell_type": "code",
   "execution_count": 31,
   "id": "6cc5be94-03af-4afc-8587-0f57d7e49972",
   "metadata": {},
   "outputs": [
    {
     "name": "stdout",
     "output_type": "stream",
     "text": [
      "[1, 2, 3, 4, 5, 6, 7, 8, 9, 10]\n"
     ]
    }
   ],
   "source": [
    "a = [1,2,3,4,5]\n",
    "b = [6,7,8,9,10]\n",
    "c = a+b\n",
    "print(c)"
   ]
  },
  {
   "cell_type": "code",
   "execution_count": 33,
   "id": "80f2a783-dff8-47f1-9f93-0996fe05442e",
   "metadata": {},
   "outputs": [
    {
     "name": "stdout",
     "output_type": "stream",
     "text": [
      "[1, 2, 3, 4, 5, 1, 2, 3, 4, 5, 1, 2, 3, 4, 5]\n"
     ]
    }
   ],
   "source": [
    "a = [1,2,3,4,5]\n",
    "print(a*3)"
   ]
  },
  {
   "cell_type": "code",
   "execution_count": 47,
   "id": "1fc37eee-9211-4d99-98da-e8017fc4596a",
   "metadata": {},
   "outputs": [
    {
     "name": "stdout",
     "output_type": "stream",
     "text": [
      "Min value of a =  7\n",
      "Max value of a =  657\n",
      "Sum value of a =  3858\n",
      "the sorted list a =  [7, 23, 23, 34, 34, 34, 54, 56, 89, 234, 243, 345, 456, 456, 546, 567, 657]\n"
     ]
    }
   ],
   "source": [
    "# min() max() sum() sort()\n",
    "a = [23,34,456,234,546,345,567,7,89,657,456,34,23,243,54,56,34]\n",
    "print(\"Min value of a = \",min(a))\n",
    "print(\"Max value of a = \",max(a))\n",
    "print(\"Sum value of a = \",sum(a))\n",
    "a.sort()\n",
    "print(\"the sorted list a = \",a)"
   ]
  },
  {
   "cell_type": "code",
   "execution_count": 49,
   "id": "5d56253d-8f9d-4af3-981f-6d4036efb755",
   "metadata": {},
   "outputs": [
    {
     "name": "stdout",
     "output_type": "stream",
     "text": [
      "[657, 567, 546, 456, 456, 345, 243, 234, 89, 56, 54, 34, 34, 34, 23, 23, 7]\n"
     ]
    }
   ],
   "source": [
    "a.reverse()\n",
    "print(a)"
   ]
  },
  {
   "cell_type": "code",
   "execution_count": 55,
   "id": "c7db9704-d563-42ae-87d5-94a75057e767",
   "metadata": {},
   "outputs": [
    {
     "name": "stdout",
     "output_type": "stream",
     "text": [
      "['Ball', 'Cat', 'Fish', 'Zebra', 'apple']\n"
     ]
    }
   ],
   "source": [
    "a = [\"Ball\",\"apple\",\"Zebra\",\"Cat\",\"Fish\"]\n",
    "a.sort()\n",
    "print(a)"
   ]
  },
  {
   "cell_type": "code",
   "execution_count": 69,
   "id": "74307dfe-50d2-47c5-a18e-3aca1b4bc48f",
   "metadata": {},
   "outputs": [
    {
     "name": "stdout",
     "output_type": "stream",
     "text": [
      "['1apple', 'Ball', 'Cat', 'Fish', 'Zebra']\n"
     ]
    }
   ],
   "source": [
    "a = [\"Ball\",\"1apple\",\"Zebra\",\"Cat\",\"Fish\"]\n",
    "a.sort()\n",
    "print(a)"
   ]
  },
  {
   "cell_type": "code",
   "execution_count": 71,
   "id": "c4c20953-fe28-470a-ba95-5952fe2d8ce0",
   "metadata": {},
   "outputs": [],
   "source": [
    "# CRUD\n"
   ]
  },
  {
   "cell_type": "code",
   "execution_count": 73,
   "id": "8854a56e-eddc-4388-92f3-50d65b214b85",
   "metadata": {},
   "outputs": [
    {
     "name": "stdout",
     "output_type": "stream",
     "text": [
      "['Apple', 'Ball', 'Cat']\n"
     ]
    }
   ],
   "source": [
    "# Create\n",
    "# append() insert() extend()\n",
    "l = []\n",
    "l.append(\"Apple\")\n",
    "l.append(\"Ball\")\n",
    "l.append(\"Cat\")\n",
    "print(l)"
   ]
  },
  {
   "cell_type": "code",
   "execution_count": 77,
   "id": "a15d8e6a-9f84-40dc-963d-479f5c6071f9",
   "metadata": {},
   "outputs": [
    {
     "name": "stdin",
     "output_type": "stream",
     "text": [
      "Enter n =  5\n",
      "Enter name =  Apple\n"
     ]
    },
    {
     "name": "stdout",
     "output_type": "stream",
     "text": [
      "['Apple']\n"
     ]
    },
    {
     "name": "stdin",
     "output_type": "stream",
     "text": [
      "Enter name =  Ball\n"
     ]
    },
    {
     "name": "stdout",
     "output_type": "stream",
     "text": [
      "['Apple', 'Ball']\n"
     ]
    },
    {
     "name": "stdin",
     "output_type": "stream",
     "text": [
      "Enter name =  Cat\n"
     ]
    },
    {
     "name": "stdout",
     "output_type": "stream",
     "text": [
      "['Apple', 'Ball', 'Cat']\n"
     ]
    },
    {
     "name": "stdin",
     "output_type": "stream",
     "text": [
      "Enter name =  Dog\n"
     ]
    },
    {
     "name": "stdout",
     "output_type": "stream",
     "text": [
      "['Apple', 'Ball', 'Cat', 'Dog']\n"
     ]
    },
    {
     "name": "stdin",
     "output_type": "stream",
     "text": [
      "Enter name =  Egg\n"
     ]
    },
    {
     "name": "stdout",
     "output_type": "stream",
     "text": [
      "['Apple', 'Ball', 'Cat', 'Dog', 'Egg']\n"
     ]
    }
   ],
   "source": [
    "l = []\n",
    "n = int(input(\"Enter n = \"))\n",
    "for i in range(n):\n",
    "    name = input(\"Enter name = \")\n",
    "    l.append(name)\n",
    "\n",
    "    print(l)"
   ]
  },
  {
   "cell_type": "code",
   "execution_count": 3,
   "id": "b457d371-55b8-4b48-8119-2c2143329ab1",
   "metadata": {},
   "outputs": [
    {
     "name": "stdout",
     "output_type": "stream",
     "text": [
      "['Apple', 'Ball', 'Ant', 'Cat', 'Dog', 'Egg']\n"
     ]
    }
   ],
   "source": [
    "a = ['Apple', 'Ball', 'Cat', 'Dog', 'Egg']\n",
    "a.insert(2,'Ant')\n",
    "print(a)"
   ]
  },
  {
   "cell_type": "code",
   "execution_count": 5,
   "id": "241007c4-6142-40f4-aace-f684c4d71413",
   "metadata": {},
   "outputs": [
    {
     "name": "stdout",
     "output_type": "stream",
     "text": [
      "[1, 2, 3, 4, 5, 7, 8, 9]\n"
     ]
    }
   ],
   "source": [
    "a = [1,2,3,4,5]\n",
    "b = [7,8,9]\n",
    "a.extend(b)\n",
    "print(a)"
   ]
  },
  {
   "cell_type": "code",
   "execution_count": 7,
   "id": "99fb282c-97e3-4286-9306-dd9bb395b3c7",
   "metadata": {},
   "outputs": [
    {
     "name": "stdout",
     "output_type": "stream",
     "text": [
      "Apple\n",
      "Ball\n",
      "Cat\n",
      "Dog\n",
      "Egg\n"
     ]
    }
   ],
   "source": [
    "# Read list\n",
    "a = ['Apple', 'Ball', 'Cat', 'Dog', 'Egg']\n",
    "for i in a:\n",
    "    print(i)"
   ]
  },
  {
   "cell_type": "code",
   "execution_count": 13,
   "id": "81648249-261d-473b-aee2-8c79cc6b81fe",
   "metadata": {},
   "outputs": [
    {
     "name": "stdout",
     "output_type": "stream",
     "text": [
      "Apple\n",
      "Ball\n",
      "Cat\n",
      "Dog\n",
      "Egg\n"
     ]
    }
   ],
   "source": [
    "a = ['Apple', 'Ball', 'Cat', 'Dog', 'Egg']\n",
    "l = len(a)\n",
    "for i in range(l):\n",
    "    print(a[i])"
   ]
  },
  {
   "cell_type": "code",
   "execution_count": 15,
   "id": "dab2f8c0-fe11-448e-a9f6-b848fbec7bd3",
   "metadata": {},
   "outputs": [
    {
     "name": "stdin",
     "output_type": "stream",
     "text": [
      "Enter value for search =  Apple\n"
     ]
    },
    {
     "name": "stdout",
     "output_type": "stream",
     "text": [
      "Yes\n",
      "1\n"
     ]
    }
   ],
   "source": [
    "a = ['Apple', 'Ball', 'Cat', 'Dog', 'Egg']\n",
    "search = input(\"Enter value for search = \")\n",
    "if search in a:\n",
    "    print(\"Yes\")\n",
    "    print(a.count(search))\n",
    "else:\n",
    "    print(\"There is no such value\")"
   ]
  },
  {
   "cell_type": "code",
   "execution_count": 19,
   "id": "b09da515-bb29-4fc3-945e-9fef115dbcc0",
   "metadata": {},
   "outputs": [
    {
     "data": {
      "text/plain": [
       "['Pineapple', 'Ball', 'Cat', 'Dog', 'Egg']"
      ]
     },
     "execution_count": 19,
     "metadata": {},
     "output_type": "execute_result"
    }
   ],
   "source": [
    "# Update\n",
    "a = ['Apple', 'Ball', 'Cat', 'Dog', 'Egg']\n",
    "a[0] = \"Pineapple\"\n",
    "a"
   ]
  },
  {
   "cell_type": "code",
   "execution_count": 21,
   "id": "60ba2c65-8740-4ba7-8871-44eb55986865",
   "metadata": {},
   "outputs": [
    {
     "name": "stdout",
     "output_type": "stream",
     "text": [
      "['apple', 'ball', 'cat', 'Dog', 'Egg']\n"
     ]
    }
   ],
   "source": [
    "a = ['Apple', 'Ball', 'Cat', 'Dog', 'Egg']\n",
    "a[0:3] = ['apple','ball','cat']\n",
    "print(a)"
   ]
  },
  {
   "cell_type": "code",
   "execution_count": 27,
   "id": "3644a19d-594e-41ad-bae0-cddc2d71c3bd",
   "metadata": {},
   "outputs": [
    {
     "data": {
      "text/plain": [
       "1"
      ]
     },
     "execution_count": 27,
     "metadata": {},
     "output_type": "execute_result"
    }
   ],
   "source": [
    "a = ['Apple', 'Ball', 'Cat', 'Dog', 'Egg','Ball']\n",
    "a.index(\"Ball\")"
   ]
  },
  {
   "cell_type": "code",
   "execution_count": 33,
   "id": "ad25a172-0964-4910-b290-20233cf9e461",
   "metadata": {},
   "outputs": [
    {
     "name": "stdin",
     "output_type": "stream",
     "text": [
      "Enter search value =  Ball\n"
     ]
    },
    {
     "name": "stdout",
     "output_type": "stream",
     "text": [
      "1\n",
      "5\n"
     ]
    }
   ],
   "source": [
    "a = ['Apple', 'Ball', 'Cat', 'Dog', 'Egg','Ball']\n",
    "search = input(\"Enter search value = \")\n",
    "l = len(a)\n",
    "for i in range(l):\n",
    "    if a[i] == search:\n",
    "        print(i)"
   ]
  },
  {
   "cell_type": "code",
   "execution_count": 35,
   "id": "9ce75d4a-18a8-4bdb-9efa-20412a6641e0",
   "metadata": {},
   "outputs": [
    {
     "name": "stdout",
     "output_type": "stream",
     "text": [
      "['Apple', 'ball', 'Cat', 'Dog', 'Egg', 'ball']\n"
     ]
    }
   ],
   "source": [
    "a[1] = 'ball'\n",
    "a[5] = 'ball'\n",
    "print(a)"
   ]
  },
  {
   "cell_type": "code",
   "execution_count": 37,
   "id": "7d7caed8-4f6f-4ba8-84aa-7645c15f464a",
   "metadata": {},
   "outputs": [],
   "source": [
    "# delete\n",
    "# del remove() pop()"
   ]
  },
  {
   "cell_type": "code",
   "execution_count": 41,
   "id": "3b1a3965-6ca6-4172-af0e-90ef66297c36",
   "metadata": {},
   "outputs": [
    {
     "name": "stdout",
     "output_type": "stream",
     "text": [
      "['ball', 'Cat', 'Dog', 'Egg', 'ball']\n"
     ]
    }
   ],
   "source": [
    "a = ['Apple', 'ball', 'Cat', 'Dog', 'Egg', 'ball']\n",
    "del a[0]\n",
    "print(a)"
   ]
  },
  {
   "cell_type": "code",
   "execution_count": 43,
   "id": "91aba056-cea3-428c-b32e-35224ec3171e",
   "metadata": {},
   "outputs": [
    {
     "name": "stdout",
     "output_type": "stream",
     "text": [
      "['Cat', 'Dog', 'Egg', 'ball']\n"
     ]
    }
   ],
   "source": [
    "a = ['Apple', 'ball', 'Cat', 'Dog', 'Egg', 'ball']\n",
    "del a[0:2]\n",
    "print(a)"
   ]
  },
  {
   "cell_type": "code",
   "execution_count": 47,
   "id": "aecdf56f-f8e3-4354-b9ad-9e81e17e978f",
   "metadata": {},
   "outputs": [
    {
     "name": "stdout",
     "output_type": "stream",
     "text": [
      "['ball', 'Dog', 'ball']\n"
     ]
    }
   ],
   "source": [
    "a = ['Apple', 'ball', 'Cat', 'Dog', 'Egg', 'ball']\n",
    "del a[0:6:2]\n",
    "print(a)"
   ]
  },
  {
   "cell_type": "code",
   "execution_count": 5,
   "id": "6fb1970f-72d7-4205-ad83-05ef09a03e10",
   "metadata": {},
   "outputs": [
    {
     "name": "stdout",
     "output_type": "stream",
     "text": [
      "['ball', 'Cat', 'Dog', 'Egg', 'ball']\n"
     ]
    }
   ],
   "source": [
    "a = ['Apple', 'ball', 'Cat', 'Dog', 'Egg', 'ball']\n",
    "a.remove('Apple')\n",
    "print(a)"
   ]
  },
  {
   "cell_type": "code",
   "execution_count": 15,
   "id": "88baf897-074d-4a58-ba9f-cbafcb98d1c2",
   "metadata": {},
   "outputs": [
    {
     "name": "stdout",
     "output_type": "stream",
     "text": [
      "['Apple', 'Cat', 'Dog', 'Egg']\n"
     ]
    }
   ],
   "source": [
    "a = ['Apple', 'ball', 'Cat', 'Dog', 'Egg', 'ball']\n",
    "c = a.count('ball')\n",
    "for i in range(c):\n",
    "    a.remove('ball')\n",
    "print(a)"
   ]
  },
  {
   "cell_type": "code",
   "execution_count": 17,
   "id": "058ebe9c-4d2e-4d40-8476-9d7226a864e9",
   "metadata": {},
   "outputs": [
    {
     "name": "stdout",
     "output_type": "stream",
     "text": [
      "[['Ram', 34, 'Kathmandu'], ['Shyam', 78, 'Bhaktapur'], ['Hari', 20, 'Lalitpur']]\n"
     ]
    }
   ],
   "source": [
    "# nested list\n",
    "a = [['Ram',34,\"Kathmandu\"],\n",
    "    ['Shyam',78,\"Bhaktapur\"],\n",
    "    ['Hari',20,\"Lalitpur\"]]\n",
    "print(a)"
   ]
  },
  {
   "cell_type": "code",
   "execution_count": 23,
   "id": "9cd4185e-db29-47f6-bfce-714372b89fd4",
   "metadata": {},
   "outputs": [
    {
     "name": "stdout",
     "output_type": "stream",
     "text": [
      "<class 'list'>\n",
      "3\n"
     ]
    }
   ],
   "source": [
    "print(type(a))\n",
    "print(len(a))"
   ]
  },
  {
   "cell_type": "code",
   "execution_count": 27,
   "id": "f8f4c7f9-8515-4d03-8b61-7ff9bf480ee1",
   "metadata": {},
   "outputs": [
    {
     "name": "stdin",
     "output_type": "stream",
     "text": [
      "Enter n =  3\n",
      "Enter name =  Ram\n",
      "Enter age =  34\n",
      "Enter add =  Kathmandu\n",
      "Enter name =  Shyam\n",
      "Enter age =  22\n",
      "Enter add =  Bhaktapur\n",
      "Enter name =  Lalitpur\n",
      "Enter age =  56\n",
      "Enter add =  Patan\n"
     ]
    },
    {
     "name": "stdout",
     "output_type": "stream",
     "text": [
      "[['Ram', 34, 'Kathmandu'], ['Shyam', 22, 'Bhaktapur'], ['Lalitpur', 56, 'Patan']]\n"
     ]
    }
   ],
   "source": [
    "info = []\n",
    "n = int(input(\"Enter n = \"))\n",
    "for i in range(n):\n",
    "    name = input(\"Enter name = \")\n",
    "    age = int(input(\"Enter age = \"))\n",
    "    add = input(\"Enter add = \")\n",
    "    info.append([name,age,add])\n",
    "\n",
    "print(info)"
   ]
  },
  {
   "cell_type": "code",
   "execution_count": 31,
   "id": "69619ca3-f951-4d6c-a6e4-a8a91fc9658c",
   "metadata": {},
   "outputs": [
    {
     "name": "stdout",
     "output_type": "stream",
     "text": [
      "['Ram', 34, 'Kathmandu']\n",
      "Ram\n"
     ]
    }
   ],
   "source": [
    "print(info[0])\n",
    "print(info[0][0])"
   ]
  },
  {
   "cell_type": "code",
   "execution_count": 47,
   "id": "2ceda97d-3266-4520-9585-2d690faee864",
   "metadata": {},
   "outputs": [
    {
     "name": "stdin",
     "output_type": "stream",
     "text": [
      "Enter name =  Ram\n"
     ]
    },
    {
     "name": "stdout",
     "output_type": "stream",
     "text": [
      "['Ram', 34, 'Kathmandu']\n",
      "['Ram', 56, 'Patan']\n"
     ]
    }
   ],
   "source": [
    "a = [['Ram', 34, 'Kathmandu'],\n",
    "     ['Shyam', 22, 'Bhaktapur'], \n",
    "     ['Ram', 56, 'Patan']]\n",
    "name = input(\"Enter name = \")\n",
    "for i in a:\n",
    "    if name in i:\n",
    "        print(i)\n"
   ]
  },
  {
   "cell_type": "code",
   "execution_count": 51,
   "id": "099dabee-2d6b-4f6c-afb2-d9f34d7df050",
   "metadata": {},
   "outputs": [
    {
     "data": {
      "text/plain": [
       "[['Shyam', 22, 'Bhaktapur'], ['Hari', 56, 'Patan']]"
      ]
     },
     "execution_count": 51,
     "metadata": {},
     "output_type": "execute_result"
    }
   ],
   "source": [
    "#delete\n",
    "a = [['Ram', 34, 'Kathmandu'], ['Shyam', 22, 'Bhaktapur'], ['Hari', 56, 'Patan']]\n",
    "del a[0]\n",
    "a"
   ]
  },
  {
   "cell_type": "code",
   "execution_count": 53,
   "id": "7d5b695f-57a3-4330-8868-ebc0c8661e40",
   "metadata": {},
   "outputs": [
    {
     "data": {
      "text/plain": [
       "[['Shyam', 22, 'Bhaktapur'], ['Hari', 56, 'Patan']]"
      ]
     },
     "execution_count": 53,
     "metadata": {},
     "output_type": "execute_result"
    }
   ],
   "source": [
    "a = [['Ram', 34, 'Kathmandu'], ['Shyam', 22, 'Bhaktapur'], ['Hari', 56, 'Patan']]\n",
    "a.remove(['Ram', 34, 'Kathmandu'])\n",
    "a"
   ]
  },
  {
   "cell_type": "code",
   "execution_count": 55,
   "id": "1c0dd4e4-a832-4a89-a754-b30b3e27026d",
   "metadata": {},
   "outputs": [
    {
     "name": "stdout",
     "output_type": "stream",
     "text": [
      "[['Shyam', 22, 'Bhaktapur'], ['Hari', 56, 'Patan']]\n"
     ]
    }
   ],
   "source": [
    "a = [['Ram', 34, 'Kathmandu'], ['Shyam', 22, 'Bhaktapur'], ['Hari', 56, 'Patan']]\n",
    "a.pop(0)\n",
    "print(a)"
   ]
  },
  {
   "cell_type": "code",
   "execution_count": 66,
   "id": "d8e32432-6d16-4845-b061-fcfb9fe67a39",
   "metadata": {},
   "outputs": [
    {
     "data": {
      "text/plain": [
       "[[34, 'Kathmandu'], ['Shyam', 22, 'Bhaktapur'], ['Hari', 56, 'Patan']]"
      ]
     },
     "execution_count": 66,
     "metadata": {},
     "output_type": "execute_result"
    }
   ],
   "source": [
    "a = [['Ram', 34, 'Kathmandu'], ['Shyam', 22, 'Bhaktapur'], ['Hari', 56, 'Patan']]\n",
    "del a[0][0]\n",
    "a"
   ]
  },
  {
   "cell_type": "code",
   "execution_count": 70,
   "id": "663b70eb-0d1b-41f7-85ab-9bb894db9ff3",
   "metadata": {},
   "outputs": [
    {
     "name": "stdin",
     "output_type": "stream",
     "text": [
      "Enter name =  Ram\n"
     ]
    },
    {
     "name": "stdout",
     "output_type": "stream",
     "text": [
      "[['Shyam', 22, 'Bhaktapur']]\n"
     ]
    }
   ],
   "source": [
    "# remove value of Ram\n",
    "a = [['Ram', 34, 'Kathmandu'],\n",
    "     ['Shyam', 22, 'Bhaktapur'], \n",
    "     ['Ram', 56, 'Patan']]\n",
    "name = input(\"Enter name = \")\n",
    "for i in a:\n",
    "    if name in i:\n",
    "        a.remove(i)\n",
    "\n",
    "print(a)"
   ]
  },
  {
   "cell_type": "code",
   "execution_count": 82,
   "id": "2b441c4f-ba1c-4fd8-b51e-d1db7426cfe7",
   "metadata": {},
   "outputs": [
    {
     "data": {
      "text/plain": [
       "[['Rama', 34, 'Kathmandu'], ['Shyam', 22, 'Bhaktapur'], ['Hari', 56, 'Patan']]"
      ]
     },
     "execution_count": 82,
     "metadata": {},
     "output_type": "execute_result"
    }
   ],
   "source": [
    "#Update\n",
    "a = [['Ram', 34, 'Kathmandu'],\n",
    "     ['Shyam', 22, 'Bhaktapur'], \n",
    "     ['Hari', 56, 'Patan']]\n",
    "a[0][0]  = \"Rama\"\n",
    "a"
   ]
  },
  {
   "cell_type": "code",
   "execution_count": 84,
   "id": "e818b93a-60fb-42c9-9ed7-1c6b8bc629dc",
   "metadata": {},
   "outputs": [
    {
     "name": "stdin",
     "output_type": "stream",
     "text": [
      "Enter name for search =  Ram\n"
     ]
    },
    {
     "name": "stdout",
     "output_type": "stream",
     "text": [
      "[['Ram Prasad', 34, 'Kathmandu'], ['Shyam', 22, 'Bhaktapur'], ['Ram Prasad', 56, 'Patan']]\n"
     ]
    }
   ],
   "source": [
    "#Update same values in different list\n",
    "a = [['Ram', 34, 'Kathmandu'],\n",
    "     ['Shyam', 22, 'Bhaktapur'], \n",
    "     ['Ram', 56, 'Patan']]\n",
    "\n",
    "name = input(\"Enter name for search = \")\n",
    "for i in a:\n",
    "    if name in i:\n",
    "        i[0] = \"Ram Prasad\"\n",
    "print(a)"
   ]
  },
  {
   "cell_type": "code",
   "execution_count": 90,
   "id": "46799acf-0b0b-49ec-bf76-671fca4a28f9",
   "metadata": {},
   "outputs": [
    {
     "name": "stdin",
     "output_type": "stream",
     "text": [
      "Enter age for search =  30\n"
     ]
    },
    {
     "name": "stdout",
     "output_type": "stream",
     "text": [
      "['Ram', 34, 'Kathmandu']\n",
      "['Ram', 56, 'Patan']\n"
     ]
    }
   ],
   "source": [
    "# data having age > 30\n",
    "#Update same values in different list\n",
    "a = [['Ram', 34, 'Kathmandu'],\n",
    "     ['Shyam', 22, 'Bhaktapur'], \n",
    "     ['Ram', 56, 'Patan']]\n",
    "\n",
    "age = int(input(\"Enter age for search = \"))\n",
    "for i in a:\n",
    "    if i[1] >= age:\n",
    "        print(i)\n"
   ]
  },
  {
   "cell_type": "code",
   "execution_count": 94,
   "id": "c7a8c187-698a-4eea-9611-5f7564d309fd",
   "metadata": {},
   "outputs": [
    {
     "name": "stdout",
     "output_type": "stream",
     "text": [
      "Ram 9867667654\n",
      "Shyam 9808667654\n",
      "Hari 9809556543\n"
     ]
    }
   ],
   "source": [
    "a = \"Ram 9867667654\\nShyam 9808667654\\nHari 9809556543\"\n",
    "print(a)"
   ]
  },
  {
   "cell_type": "code",
   "execution_count": 96,
   "id": "f63e5c46-1c2d-4cf3-a0c1-c021403aed03",
   "metadata": {},
   "outputs": [
    {
     "data": {
      "text/plain": [
       "['Ram 9867667654', 'Shyam 9808667654', 'Hari 9809556543']"
      ]
     },
     "execution_count": 96,
     "metadata": {},
     "output_type": "execute_result"
    }
   ],
   "source": [
    "# split()\n",
    "a.split(\"\\n\")"
   ]
  },
  {
   "cell_type": "code",
   "execution_count": 102,
   "id": "99519971-622f-40a6-adfa-084247dd00ce",
   "metadata": {},
   "outputs": [
    {
     "name": "stdout",
     "output_type": "stream",
     "text": [
      "['Ram', '9867667654']\n",
      "['Shyam', '9808667654']\n",
      "['Hari', '9809556543']\n"
     ]
    }
   ],
   "source": [
    "a = \"Ram 9867667654\\nShyam 9808667654\\nHari 9809556543\"\n",
    "b = a.split(\"\\n\")\n",
    "for i in b:\n",
    "    print(i.split())"
   ]
  },
  {
   "cell_type": "code",
   "execution_count": 112,
   "id": "c408cec0-13bb-429f-9129-db0d96dd2568",
   "metadata": {},
   "outputs": [
    {
     "data": {
      "text/plain": [
       "[['Ram', '9867667654'], ['Shyam', '9808667654'], ['Hari', '9809556543']]"
      ]
     },
     "execution_count": 112,
     "metadata": {},
     "output_type": "execute_result"
    }
   ],
   "source": [
    "l = []\n",
    "a = \"Ram 9867667654\\nShyam 9808667654\\nHari 9809556543\"\n",
    "b = a.split(\"\\n\")\n",
    "for i in b:\n",
    "    l.append(i.split())\n",
    "l"
   ]
  },
  {
   "cell_type": "code",
   "execution_count": null,
   "id": "7179cc17-5cd0-4be0-a7a3-e3217b513836",
   "metadata": {},
   "outputs": [],
   "source": []
  }
 ],
 "metadata": {
  "kernelspec": {
   "display_name": "Python 3 (ipykernel)",
   "language": "python",
   "name": "python3"
  },
  "language_info": {
   "codemirror_mode": {
    "name": "ipython",
    "version": 3
   },
   "file_extension": ".py",
   "mimetype": "text/x-python",
   "name": "python",
   "nbconvert_exporter": "python",
   "pygments_lexer": "ipython3",
   "version": "3.12.7"
  }
 },
 "nbformat": 4,
 "nbformat_minor": 5
}
