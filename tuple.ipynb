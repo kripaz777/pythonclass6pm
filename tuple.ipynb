{
 "cells": [
  {
   "cell_type": "code",
   "execution_count": 1,
   "id": "8f4290af-9e50-4b0c-8093-04236e3016ea",
   "metadata": {},
   "outputs": [],
   "source": [
    "# # Tuple\n",
    "# -Indexing\n",
    "# -Ordered\n",
    "# -Imutable\n",
    "# -duplicate and multiple data"
   ]
  },
  {
   "cell_type": "code",
   "execution_count": 3,
   "id": "b71d2208-7a72-42e3-8bd3-c68cd4aa020b",
   "metadata": {},
   "outputs": [
    {
     "name": "stdout",
     "output_type": "stream",
     "text": [
      "<class 'tuple'>\n"
     ]
    }
   ],
   "source": [
    "t = (1,2,3,4)\n",
    "print(type(t))"
   ]
  },
  {
   "cell_type": "code",
   "execution_count": 5,
   "id": "3c1fddbc-5fc6-47c7-af16-6d33d28a2c31",
   "metadata": {},
   "outputs": [
    {
     "name": "stdout",
     "output_type": "stream",
     "text": [
      "<class 'tuple'>\n"
     ]
    }
   ],
   "source": [
    "t = (\"Apple\",\"Ball\",\"Cat\")\n",
    "print(type(t))"
   ]
  },
  {
   "cell_type": "code",
   "execution_count": 7,
   "id": "4896102f-782e-4ac4-89a1-2ca3f83cfbeb",
   "metadata": {},
   "outputs": [
    {
     "name": "stdout",
     "output_type": "stream",
     "text": [
      "Apple\n"
     ]
    }
   ],
   "source": [
    "print(t[0])"
   ]
  },
  {
   "cell_type": "code",
   "execution_count": 11,
   "id": "3aab0eef-bc1a-4055-b28d-d2b71ed70884",
   "metadata": {},
   "outputs": [
    {
     "name": "stdout",
     "output_type": "stream",
     "text": [
      "('Apple', 'Ball', 'Cat', 'Apple')\n"
     ]
    }
   ],
   "source": [
    "t = (\"Apple\",\"Ball\",\"Cat\",\"Apple\")\n",
    "print(t)"
   ]
  },
  {
   "cell_type": "code",
   "execution_count": 15,
   "id": "09e83537-dc9f-48f3-9146-1cd231d9a80f",
   "metadata": {},
   "outputs": [],
   "source": [
    "# No append() insert() extend()\n",
    "# No Update\n",
    "# No del remove() pop()\n",
    "# No sort()"
   ]
  },
  {
   "cell_type": "code",
   "execution_count": 29,
   "id": "5bb58173-a3bb-44af-9cc5-d2fba95e4c2c",
   "metadata": {},
   "outputs": [],
   "source": [
    "gender = (\"male\",\"female\",\"other\",)"
   ]
  },
  {
   "cell_type": "code",
   "execution_count": 31,
   "id": "15118b99-c408-4cbe-a650-c83c10f8b3f2",
   "metadata": {},
   "outputs": [
    {
     "name": "stdout",
     "output_type": "stream",
     "text": [
      "67\n",
      "768\n",
      "3890\n"
     ]
    }
   ],
   "source": [
    "#min() max() sum()\n",
    "t = (243,456,678,345,768,324,67,97,345,567)\n",
    "print(min(t))\n",
    "print(max(t))\n",
    "print(sum(t))"
   ]
  },
  {
   "cell_type": "code",
   "execution_count": 33,
   "id": "6d5f061f-e809-42a7-9918-fc65ca362e1a",
   "metadata": {},
   "outputs": [
    {
     "name": "stdout",
     "output_type": "stream",
     "text": [
      "<class 'tuple'>\n"
     ]
    }
   ],
   "source": [
    "t = (\"Apple\",)\n",
    "print(type(t))"
   ]
  },
  {
   "cell_type": "code",
   "execution_count": 35,
   "id": "20131d9d-ed6a-4aa9-b702-0b625078ea2f",
   "metadata": {},
   "outputs": [
    {
     "name": "stdout",
     "output_type": "stream",
     "text": [
      "(1, 2, 3, 4, 5, 6, 7, 8, 9, 10)\n"
     ]
    }
   ],
   "source": [
    "a = (1,2,3,4,)\n",
    "b = (5,6,7,8,9,10)\n",
    "c = a+b\n",
    "print(c)"
   ]
  },
  {
   "cell_type": "code",
   "execution_count": 37,
   "id": "25b41516-e7c9-4fd2-81bc-69cde794ed25",
   "metadata": {},
   "outputs": [
    {
     "name": "stdout",
     "output_type": "stream",
     "text": [
      "(1, 2, 3, 4, 1, 2, 3, 4)\n"
     ]
    }
   ],
   "source": [
    "a = (1,2,3,4,)\n",
    "print(a*2)"
   ]
  },
  {
   "cell_type": "code",
   "execution_count": 39,
   "id": "1417af1e-ff2a-4f6a-962e-6a2851514c1b",
   "metadata": {},
   "outputs": [
    {
     "data": {
      "text/plain": [
       "('Ball', 'Cat', 'Apple')"
      ]
     },
     "execution_count": 39,
     "metadata": {},
     "output_type": "execute_result"
    }
   ],
   "source": [
    "# tuple to list\n",
    "a = (\"Apple\",\"Ball\",\"Cat\",\"Apple\")\n",
    "b = list(a)\n",
    "del b[0]\n",
    "a = tuple(b)\n",
    "a"
   ]
  },
  {
   "cell_type": "code",
   "execution_count": 41,
   "id": "a4cae07b-4a77-440b-b371-917beae371fb",
   "metadata": {},
   "outputs": [
    {
     "name": "stdin",
     "output_type": "stream",
     "text": [
      "Enter n =  2\n",
      "Enter x =  32\n",
      "Enter x =  54\n"
     ]
    },
    {
     "name": "stdout",
     "output_type": "stream",
     "text": [
      "(32, 54)\n"
     ]
    }
   ],
   "source": [
    "a = ()\n",
    "n = int(input(\"Enter n = \"))\n",
    "for i in range(n):\n",
    "    x = int(input(\"Enter x = \"))\n",
    "    a = a + (x,)\n",
    "\n",
    "print(a)"
   ]
  },
  {
   "cell_type": "code",
   "execution_count": 43,
   "id": "015d831b-4cc8-44f3-87e9-6d10eefa48a7",
   "metadata": {},
   "outputs": [
    {
     "name": "stdout",
     "output_type": "stream",
     "text": [
      "(1, 2, 3, 4, 5, 6, 7, 8, 9, 10)\n"
     ]
    }
   ],
   "source": [
    "a = 1,2,3,4,5,6,7,8,9,10\n",
    "print(a)"
   ]
  },
  {
   "cell_type": "code",
   "execution_count": null,
   "id": "e029982a-46d7-49b9-92a8-b960d5e38319",
   "metadata": {},
   "outputs": [],
   "source": []
  }
 ],
 "metadata": {
  "kernelspec": {
   "display_name": "Python 3 (ipykernel)",
   "language": "python",
   "name": "python3"
  },
  "language_info": {
   "codemirror_mode": {
    "name": "ipython",
    "version": 3
   },
   "file_extension": ".py",
   "mimetype": "text/x-python",
   "name": "python",
   "nbconvert_exporter": "python",
   "pygments_lexer": "ipython3",
   "version": "3.12.7"
  }
 },
 "nbformat": 4,
 "nbformat_minor": 5
}
